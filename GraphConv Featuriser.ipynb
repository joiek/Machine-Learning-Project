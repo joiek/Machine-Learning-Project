{
 "cells": [
  {
   "cell_type": "code",
   "execution_count": 1,
   "id": "ceae00f0",
   "metadata": {},
   "outputs": [],
   "source": [
    "#Import Statements\n",
    "import deepchem as dc\n",
    "from rdkit import Chem\n",
    "from rdkit.Chem import Draw\n",
    "import tensorflow as tf\n",
    "from tensorflow.keras.models import Sequential\n",
    "from tensorflow.keras import layers, losses\n",
    "\n",
    "import pandas as pd\n",
    "\n",
    "from matplotlib import pyplot as plt\n",
    "\n",
    "import numpy as np\n",
    "\n",
    "from sklearn import metrics\n",
    "from sklearn.metrics import f1_score\n",
    "\n",
    "\n",
    "import keras\n",
    "from keras import layers"
   ]
  },
  {
   "cell_type": "code",
   "execution_count": 2,
   "id": "0047b226",
   "metadata": {},
   "outputs": [],
   "source": [
    "#GraphConv featuriser - splitting the training dataset into smaller datasets\n",
    "tasks, datasets, transformers = dc.molnet.load_tox21(\n",
    "    featurizer = dc.feat.ConvMolFeaturizer(),\n",
    "    save_dir=r'C:\\Users\\ym20201\\Documents\\Datasets',\n",
    "    data_dir=r'C:\\Users\\ym20201\\Documents\\Datasets')\n",
    "\n",
    "# featurizer = dc.feat.ConvMolFeaturizer()\n",
    "splitter = dc.splits.RandomSplitter()\n",
    "\n",
    "# train_data, valid_data,test_data = splitter.train_valid_test_split(\n",
    "#     datasets[0], \n",
    "#     frac_train = 0.8, frac_valid = 0.08, frac_test = 0.12)\n",
    "\n",
    "train_data, valid_data,test_data = datasets\n"
   ]
  },
  {
   "cell_type": "code",
   "execution_count": 32,
   "id": "c2ea42c4",
   "metadata": {},
   "outputs": [
    {
     "data": {
      "text/plain": [
       "array([<deepchem.feat.mol_graphs.ConvMol object at 0x0000017F4EB06B08>,\n",
       "       <deepchem.feat.mol_graphs.ConvMol object at 0x0000017F44002F08>,\n",
       "       <deepchem.feat.mol_graphs.ConvMol object at 0x0000017F43E06B48>,\n",
       "       ...,\n",
       "       <deepchem.feat.mol_graphs.ConvMol object at 0x0000017F65A43BC8>,\n",
       "       <deepchem.feat.mol_graphs.ConvMol object at 0x0000017F65A44BC8>,\n",
       "       <deepchem.feat.mol_graphs.ConvMol object at 0x0000017F65A46C08>],\n",
       "      dtype=object)"
      ]
     },
     "execution_count": 32,
     "metadata": {},
     "output_type": "execute_result"
    }
   ],
   "source": [
    "train_data.X"
   ]
  },
  {
   "cell_type": "markdown",
   "id": "1f5ee6e5",
   "metadata": {},
   "source": [
    "### Graph Convolutional NN"
   ]
  },
  {
   "cell_type": "code",
   "execution_count": 40,
   "id": "7c0aa102",
   "metadata": {},
   "outputs": [],
   "source": [
    "convmol_model = dc.models.GraphConvModel(\n",
    "    n_tasks = len(tasks),\n",
    "    graph_conv_layers=[64,64],\n",
    "    dense_layer_size=200,\n",
    "    dropout=0.2,\n",
    "    mode='classification',\n",
    "    n_classes=12,\n",
    "    learning_rate=0.01,\n",
    "    batch_size=100)"
   ]
  },
  {
   "cell_type": "code",
   "execution_count": 41,
   "id": "a3cff0e3",
   "metadata": {
    "scrolled": true
   },
   "outputs": [
    {
     "name": "stderr",
     "output_type": "stream",
     "text": [
      "C:\\Users\\ym20201\\Anaconda3\\envs\\tdaf-tf2p7\\lib\\site-packages\\tensorflow\\python\\framework\\indexed_slices.py:450: UserWarning: Converting sparse IndexedSlices(IndexedSlices(indices=Tensor(\"gradient_tape/private__graph_conv_keras_model_14/graph_pool_28/Reshape_14:0\", shape=(413,), dtype=int32), values=Tensor(\"gradient_tape/private__graph_conv_keras_model_14/graph_pool_28/Reshape_13:0\", shape=(413, 64), dtype=float32), dense_shape=Tensor(\"gradient_tape/private__graph_conv_keras_model_14/graph_pool_28/Cast_4:0\", shape=(2,), dtype=int32))) to a dense Tensor of unknown shape. This may consume a large amount of memory.\n",
      "  \"shape. This may consume a large amount of memory.\" % value)\n",
      "C:\\Users\\ym20201\\Anaconda3\\envs\\tdaf-tf2p7\\lib\\site-packages\\tensorflow\\python\\framework\\indexed_slices.py:450: UserWarning: Converting sparse IndexedSlices(IndexedSlices(indices=Tensor(\"gradient_tape/private__graph_conv_keras_model_14/graph_pool_28/Reshape_17:0\", shape=(1366,), dtype=int32), values=Tensor(\"gradient_tape/private__graph_conv_keras_model_14/graph_pool_28/Reshape_16:0\", shape=(1366, 64), dtype=float32), dense_shape=Tensor(\"gradient_tape/private__graph_conv_keras_model_14/graph_pool_28/Cast_5:0\", shape=(2,), dtype=int32))) to a dense Tensor of unknown shape. This may consume a large amount of memory.\n",
      "  \"shape. This may consume a large amount of memory.\" % value)\n",
      "C:\\Users\\ym20201\\Anaconda3\\envs\\tdaf-tf2p7\\lib\\site-packages\\tensorflow\\python\\framework\\indexed_slices.py:450: UserWarning: Converting sparse IndexedSlices(IndexedSlices(indices=Tensor(\"gradient_tape/private__graph_conv_keras_model_14/graph_pool_28/Reshape_20:0\", shape=(999,), dtype=int32), values=Tensor(\"gradient_tape/private__graph_conv_keras_model_14/graph_pool_28/Reshape_19:0\", shape=(999, 64), dtype=float32), dense_shape=Tensor(\"gradient_tape/private__graph_conv_keras_model_14/graph_pool_28/Cast_6:0\", shape=(2,), dtype=int32))) to a dense Tensor of unknown shape. This may consume a large amount of memory.\n",
      "  \"shape. This may consume a large amount of memory.\" % value)\n",
      "C:\\Users\\ym20201\\Anaconda3\\envs\\tdaf-tf2p7\\lib\\site-packages\\tensorflow\\python\\framework\\indexed_slices.py:450: UserWarning: Converting sparse IndexedSlices(IndexedSlices(indices=Tensor(\"gradient_tape/private__graph_conv_keras_model_14/graph_pool_28/Reshape_23:0\", shape=(196,), dtype=int32), values=Tensor(\"gradient_tape/private__graph_conv_keras_model_14/graph_pool_28/Reshape_22:0\", shape=(196, 64), dtype=float32), dense_shape=Tensor(\"gradient_tape/private__graph_conv_keras_model_14/graph_pool_28/Cast_7:0\", shape=(2,), dtype=int32))) to a dense Tensor of unknown shape. This may consume a large amount of memory.\n",
      "  \"shape. This may consume a large amount of memory.\" % value)\n",
      "C:\\Users\\ym20201\\Anaconda3\\envs\\tdaf-tf2p7\\lib\\site-packages\\tensorflow\\python\\framework\\indexed_slices.py:450: UserWarning: Converting sparse IndexedSlices(IndexedSlices(indices=Tensor(\"gradient_tape/private__graph_conv_keras_model_14/graph_conv_28/Reshape_11:0\", shape=(413,), dtype=int32), values=Tensor(\"gradient_tape/private__graph_conv_keras_model_14/graph_conv_28/Reshape_10:0\", shape=(413, 64), dtype=float32), dense_shape=Tensor(\"gradient_tape/private__graph_conv_keras_model_14/graph_conv_28/Cast:0\", shape=(2,), dtype=int32))) to a dense Tensor of unknown shape. This may consume a large amount of memory.\n",
      "  \"shape. This may consume a large amount of memory.\" % value)\n",
      "C:\\Users\\ym20201\\Anaconda3\\envs\\tdaf-tf2p7\\lib\\site-packages\\tensorflow\\python\\framework\\indexed_slices.py:450: UserWarning: Converting sparse IndexedSlices(IndexedSlices(indices=Tensor(\"gradient_tape/private__graph_conv_keras_model_14/graph_conv_28/Reshape_13:0\", shape=(1366,), dtype=int32), values=Tensor(\"gradient_tape/private__graph_conv_keras_model_14/graph_conv_28/Reshape_12:0\", shape=(1366, 64), dtype=float32), dense_shape=Tensor(\"gradient_tape/private__graph_conv_keras_model_14/graph_conv_28/Cast_1:0\", shape=(2,), dtype=int32))) to a dense Tensor of unknown shape. This may consume a large amount of memory.\n",
      "  \"shape. This may consume a large amount of memory.\" % value)\n",
      "C:\\Users\\ym20201\\Anaconda3\\envs\\tdaf-tf2p7\\lib\\site-packages\\tensorflow\\python\\framework\\indexed_slices.py:450: UserWarning: Converting sparse IndexedSlices(IndexedSlices(indices=Tensor(\"gradient_tape/private__graph_conv_keras_model_14/graph_conv_28/Reshape_15:0\", shape=(999,), dtype=int32), values=Tensor(\"gradient_tape/private__graph_conv_keras_model_14/graph_conv_28/Reshape_14:0\", shape=(999, 64), dtype=float32), dense_shape=Tensor(\"gradient_tape/private__graph_conv_keras_model_14/graph_conv_28/Cast_2:0\", shape=(2,), dtype=int32))) to a dense Tensor of unknown shape. This may consume a large amount of memory.\n",
      "  \"shape. This may consume a large amount of memory.\" % value)\n",
      "C:\\Users\\ym20201\\Anaconda3\\envs\\tdaf-tf2p7\\lib\\site-packages\\tensorflow\\python\\framework\\indexed_slices.py:450: UserWarning: Converting sparse IndexedSlices(IndexedSlices(indices=Tensor(\"gradient_tape/private__graph_conv_keras_model_14/graph_conv_28/Reshape_17:0\", shape=(196,), dtype=int32), values=Tensor(\"gradient_tape/private__graph_conv_keras_model_14/graph_conv_28/Reshape_16:0\", shape=(196, 64), dtype=float32), dense_shape=Tensor(\"gradient_tape/private__graph_conv_keras_model_14/graph_conv_28/Cast_3:0\", shape=(2,), dtype=int32))) to a dense Tensor of unknown shape. This may consume a large amount of memory.\n",
      "  \"shape. This may consume a large amount of memory.\" % value)\n",
      "C:\\Users\\ym20201\\Anaconda3\\envs\\tdaf-tf2p7\\lib\\site-packages\\tensorflow\\python\\framework\\indexed_slices.py:450: UserWarning: Converting sparse IndexedSlices(IndexedSlices(indices=Tensor(\"gradient_tape/private__graph_conv_keras_model_14/graph_conv_28/Reshape_19:0\", shape=(0,), dtype=int32), values=Tensor(\"gradient_tape/private__graph_conv_keras_model_14/graph_conv_28/Reshape_18:0\", shape=(0, 64), dtype=float32), dense_shape=Tensor(\"gradient_tape/private__graph_conv_keras_model_14/graph_conv_28/Cast_4:0\", shape=(2,), dtype=int32))) to a dense Tensor of unknown shape. This may consume a large amount of memory.\n",
      "  \"shape. This may consume a large amount of memory.\" % value)\n",
      "C:\\Users\\ym20201\\Anaconda3\\envs\\tdaf-tf2p7\\lib\\site-packages\\tensorflow\\python\\framework\\indexed_slices.py:450: UserWarning: Converting sparse IndexedSlices(IndexedSlices(indices=Tensor(\"gradient_tape/private__graph_conv_keras_model_14/graph_conv_28/Reshape_21:0\", shape=(0,), dtype=int32), values=Tensor(\"gradient_tape/private__graph_conv_keras_model_14/graph_conv_28/Reshape_20:0\", shape=(0, 64), dtype=float32), dense_shape=Tensor(\"gradient_tape/private__graph_conv_keras_model_14/graph_conv_28/Cast_5:0\", shape=(2,), dtype=int32))) to a dense Tensor of unknown shape. This may consume a large amount of memory.\n",
      "  \"shape. This may consume a large amount of memory.\" % value)\n",
      "C:\\Users\\ym20201\\Anaconda3\\envs\\tdaf-tf2p7\\lib\\site-packages\\tensorflow\\python\\framework\\indexed_slices.py:450: UserWarning: Converting sparse IndexedSlices(IndexedSlices(indices=Tensor(\"gradient_tape/private__graph_conv_keras_model_14/graph_conv_28/Reshape_23:0\", shape=(0,), dtype=int32), values=Tensor(\"gradient_tape/private__graph_conv_keras_model_14/graph_conv_28/Reshape_22:0\", shape=(0, 64), dtype=float32), dense_shape=Tensor(\"gradient_tape/private__graph_conv_keras_model_14/graph_conv_28/Cast_6:0\", shape=(2,), dtype=int32))) to a dense Tensor of unknown shape. This may consume a large amount of memory.\n",
      "  \"shape. This may consume a large amount of memory.\" % value)\n",
      "C:\\Users\\ym20201\\Anaconda3\\envs\\tdaf-tf2p7\\lib\\site-packages\\tensorflow\\python\\framework\\indexed_slices.py:450: UserWarning: Converting sparse IndexedSlices(IndexedSlices(indices=Tensor(\"gradient_tape/private__graph_conv_keras_model_14/graph_conv_28/Reshape_25:0\", shape=(0,), dtype=int32), values=Tensor(\"gradient_tape/private__graph_conv_keras_model_14/graph_conv_28/Reshape_24:0\", shape=(0, 64), dtype=float32), dense_shape=Tensor(\"gradient_tape/private__graph_conv_keras_model_14/graph_conv_28/Cast_7:0\", shape=(2,), dtype=int32))) to a dense Tensor of unknown shape. This may consume a large amount of memory.\n",
      "  \"shape. This may consume a large amount of memory.\" % value)\n",
      "C:\\Users\\ym20201\\Anaconda3\\envs\\tdaf-tf2p7\\lib\\site-packages\\tensorflow\\python\\framework\\indexed_slices.py:450: UserWarning: Converting sparse IndexedSlices(IndexedSlices(indices=Tensor(\"gradient_tape/private__graph_conv_keras_model_14/graph_conv_28/Reshape_27:0\", shape=(0,), dtype=int32), values=Tensor(\"gradient_tape/private__graph_conv_keras_model_14/graph_conv_28/Reshape_26:0\", shape=(0, 64), dtype=float32), dense_shape=Tensor(\"gradient_tape/private__graph_conv_keras_model_14/graph_conv_28/Cast_8:0\", shape=(2,), dtype=int32))) to a dense Tensor of unknown shape. This may consume a large amount of memory.\n",
      "  \"shape. This may consume a large amount of memory.\" % value)\n",
      "C:\\Users\\ym20201\\Anaconda3\\envs\\tdaf-tf2p7\\lib\\site-packages\\tensorflow\\python\\framework\\indexed_slices.py:450: UserWarning: Converting sparse IndexedSlices(IndexedSlices(indices=Tensor(\"gradient_tape/private__graph_conv_keras_model_14/graph_conv_28/Reshape_29:0\", shape=(0,), dtype=int32), values=Tensor(\"gradient_tape/private__graph_conv_keras_model_14/graph_conv_28/Reshape_28:0\", shape=(0, 64), dtype=float32), dense_shape=Tensor(\"gradient_tape/private__graph_conv_keras_model_14/graph_conv_28/Cast_9:0\", shape=(2,), dtype=int32))) to a dense Tensor of unknown shape. This may consume a large amount of memory.\n",
      "  \"shape. This may consume a large amount of memory.\" % value)\n"
     ]
    },
    {
     "name": "stderr",
     "output_type": "stream",
     "text": [
      "C:\\Users\\ym20201\\Anaconda3\\envs\\tdaf-tf2p7\\lib\\site-packages\\tensorflow\\python\\framework\\indexed_slices.py:450: UserWarning: Converting sparse IndexedSlices(IndexedSlices(indices=Tensor(\"gradient_tape/private__graph_conv_keras_model_14/graph_pool_27/Reshape_14:0\", shape=(413,), dtype=int32), values=Tensor(\"gradient_tape/private__graph_conv_keras_model_14/graph_pool_27/Reshape_13:0\", shape=(413, 64), dtype=float32), dense_shape=Tensor(\"gradient_tape/private__graph_conv_keras_model_14/graph_pool_27/Cast_4:0\", shape=(2,), dtype=int32))) to a dense Tensor of unknown shape. This may consume a large amount of memory.\n",
      "  \"shape. This may consume a large amount of memory.\" % value)\n",
      "C:\\Users\\ym20201\\Anaconda3\\envs\\tdaf-tf2p7\\lib\\site-packages\\tensorflow\\python\\framework\\indexed_slices.py:450: UserWarning: Converting sparse IndexedSlices(IndexedSlices(indices=Tensor(\"gradient_tape/private__graph_conv_keras_model_14/graph_pool_27/Reshape_17:0\", shape=(1366,), dtype=int32), values=Tensor(\"gradient_tape/private__graph_conv_keras_model_14/graph_pool_27/Reshape_16:0\", shape=(1366, 64), dtype=float32), dense_shape=Tensor(\"gradient_tape/private__graph_conv_keras_model_14/graph_pool_27/Cast_5:0\", shape=(2,), dtype=int32))) to a dense Tensor of unknown shape. This may consume a large amount of memory.\n",
      "  \"shape. This may consume a large amount of memory.\" % value)\n",
      "C:\\Users\\ym20201\\Anaconda3\\envs\\tdaf-tf2p7\\lib\\site-packages\\tensorflow\\python\\framework\\indexed_slices.py:450: UserWarning: Converting sparse IndexedSlices(IndexedSlices(indices=Tensor(\"gradient_tape/private__graph_conv_keras_model_14/graph_pool_27/Reshape_20:0\", shape=(999,), dtype=int32), values=Tensor(\"gradient_tape/private__graph_conv_keras_model_14/graph_pool_27/Reshape_19:0\", shape=(999, 64), dtype=float32), dense_shape=Tensor(\"gradient_tape/private__graph_conv_keras_model_14/graph_pool_27/Cast_6:0\", shape=(2,), dtype=int32))) to a dense Tensor of unknown shape. This may consume a large amount of memory.\n",
      "  \"shape. This may consume a large amount of memory.\" % value)\n",
      "C:\\Users\\ym20201\\Anaconda3\\envs\\tdaf-tf2p7\\lib\\site-packages\\tensorflow\\python\\framework\\indexed_slices.py:450: UserWarning: Converting sparse IndexedSlices(IndexedSlices(indices=Tensor(\"gradient_tape/private__graph_conv_keras_model_14/graph_pool_27/Reshape_23:0\", shape=(196,), dtype=int32), values=Tensor(\"gradient_tape/private__graph_conv_keras_model_14/graph_pool_27/Reshape_22:0\", shape=(196, 64), dtype=float32), dense_shape=Tensor(\"gradient_tape/private__graph_conv_keras_model_14/graph_pool_27/Cast_7:0\", shape=(2,), dtype=int32))) to a dense Tensor of unknown shape. This may consume a large amount of memory.\n",
      "  \"shape. This may consume a large amount of memory.\" % value)\n",
      "C:\\Users\\ym20201\\Anaconda3\\envs\\tdaf-tf2p7\\lib\\site-packages\\tensorflow\\python\\framework\\indexed_slices.py:450: UserWarning: Converting sparse IndexedSlices(IndexedSlices(indices=Tensor(\"gradient_tape/private__graph_conv_keras_model_14/graph_pool_28/Reshape_14:0\", shape=(500,), dtype=int32), values=Tensor(\"gradient_tape/private__graph_conv_keras_model_14/graph_pool_28/Reshape_13:0\", shape=(500, 64), dtype=float32), dense_shape=Tensor(\"gradient_tape/private__graph_conv_keras_model_14/graph_pool_28/Cast_4:0\", shape=(2,), dtype=int32))) to a dense Tensor of unknown shape. This may consume a large amount of memory.\n",
      "  \"shape. This may consume a large amount of memory.\" % value)\n",
      "C:\\Users\\ym20201\\Anaconda3\\envs\\tdaf-tf2p7\\lib\\site-packages\\tensorflow\\python\\framework\\indexed_slices.py:450: UserWarning: Converting sparse IndexedSlices(IndexedSlices(indices=Tensor(\"gradient_tape/private__graph_conv_keras_model_14/graph_pool_28/Reshape_17:0\", shape=(1582,), dtype=int32), values=Tensor(\"gradient_tape/private__graph_conv_keras_model_14/graph_pool_28/Reshape_16:0\", shape=(1582, 64), dtype=float32), dense_shape=Tensor(\"gradient_tape/private__graph_conv_keras_model_14/graph_pool_28/Cast_5:0\", shape=(2,), dtype=int32))) to a dense Tensor of unknown shape. This may consume a large amount of memory.\n",
      "  \"shape. This may consume a large amount of memory.\" % value)\n",
      "C:\\Users\\ym20201\\Anaconda3\\envs\\tdaf-tf2p7\\lib\\site-packages\\tensorflow\\python\\framework\\indexed_slices.py:450: UserWarning: Converting sparse IndexedSlices(IndexedSlices(indices=Tensor(\"gradient_tape/private__graph_conv_keras_model_14/graph_pool_28/Reshape_20:0\", shape=(1350,), dtype=int32), values=Tensor(\"gradient_tape/private__graph_conv_keras_model_14/graph_pool_28/Reshape_19:0\", shape=(1350, 64), dtype=float32), dense_shape=Tensor(\"gradient_tape/private__graph_conv_keras_model_14/graph_pool_28/Cast_6:0\", shape=(2,), dtype=int32))) to a dense Tensor of unknown shape. This may consume a large amount of memory.\n",
      "  \"shape. This may consume a large amount of memory.\" % value)\n",
      "C:\\Users\\ym20201\\Anaconda3\\envs\\tdaf-tf2p7\\lib\\site-packages\\tensorflow\\python\\framework\\indexed_slices.py:450: UserWarning: Converting sparse IndexedSlices(IndexedSlices(indices=Tensor(\"gradient_tape/private__graph_conv_keras_model_14/graph_pool_28/Reshape_23:0\", shape=(252,), dtype=int32), values=Tensor(\"gradient_tape/private__graph_conv_keras_model_14/graph_pool_28/Reshape_22:0\", shape=(252, 64), dtype=float32), dense_shape=Tensor(\"gradient_tape/private__graph_conv_keras_model_14/graph_pool_28/Cast_7:0\", shape=(2,), dtype=int32))) to a dense Tensor of unknown shape. This may consume a large amount of memory.\n",
      "  \"shape. This may consume a large amount of memory.\" % value)\n",
      "C:\\Users\\ym20201\\Anaconda3\\envs\\tdaf-tf2p7\\lib\\site-packages\\tensorflow\\python\\framework\\indexed_slices.py:450: UserWarning: Converting sparse IndexedSlices(IndexedSlices(indices=Tensor(\"gradient_tape/private__graph_conv_keras_model_14/graph_conv_28/Reshape_11:0\", shape=(500,), dtype=int32), values=Tensor(\"gradient_tape/private__graph_conv_keras_model_14/graph_conv_28/Reshape_10:0\", shape=(500, 64), dtype=float32), dense_shape=Tensor(\"gradient_tape/private__graph_conv_keras_model_14/graph_conv_28/Cast:0\", shape=(2,), dtype=int32))) to a dense Tensor of unknown shape. This may consume a large amount of memory.\n",
      "  \"shape. This may consume a large amount of memory.\" % value)\n",
      "C:\\Users\\ym20201\\Anaconda3\\envs\\tdaf-tf2p7\\lib\\site-packages\\tensorflow\\python\\framework\\indexed_slices.py:450: UserWarning: Converting sparse IndexedSlices(IndexedSlices(indices=Tensor(\"gradient_tape/private__graph_conv_keras_model_14/graph_conv_28/Reshape_13:0\", shape=(1582,), dtype=int32), values=Tensor(\"gradient_tape/private__graph_conv_keras_model_14/graph_conv_28/Reshape_12:0\", shape=(1582, 64), dtype=float32), dense_shape=Tensor(\"gradient_tape/private__graph_conv_keras_model_14/graph_conv_28/Cast_1:0\", shape=(2,), dtype=int32))) to a dense Tensor of unknown shape. This may consume a large amount of memory.\n",
      "  \"shape. This may consume a large amount of memory.\" % value)\n",
      "C:\\Users\\ym20201\\Anaconda3\\envs\\tdaf-tf2p7\\lib\\site-packages\\tensorflow\\python\\framework\\indexed_slices.py:450: UserWarning: Converting sparse IndexedSlices(IndexedSlices(indices=Tensor(\"gradient_tape/private__graph_conv_keras_model_14/graph_conv_28/Reshape_15:0\", shape=(1350,), dtype=int32), values=Tensor(\"gradient_tape/private__graph_conv_keras_model_14/graph_conv_28/Reshape_14:0\", shape=(1350, 64), dtype=float32), dense_shape=Tensor(\"gradient_tape/private__graph_conv_keras_model_14/graph_conv_28/Cast_2:0\", shape=(2,), dtype=int32))) to a dense Tensor of unknown shape. This may consume a large amount of memory.\n",
      "  \"shape. This may consume a large amount of memory.\" % value)\n",
      "C:\\Users\\ym20201\\Anaconda3\\envs\\tdaf-tf2p7\\lib\\site-packages\\tensorflow\\python\\framework\\indexed_slices.py:450: UserWarning: Converting sparse IndexedSlices(IndexedSlices(indices=Tensor(\"gradient_tape/private__graph_conv_keras_model_14/graph_conv_28/Reshape_17:0\", shape=(252,), dtype=int32), values=Tensor(\"gradient_tape/private__graph_conv_keras_model_14/graph_conv_28/Reshape_16:0\", shape=(252, 64), dtype=float32), dense_shape=Tensor(\"gradient_tape/private__graph_conv_keras_model_14/graph_conv_28/Cast_3:0\", shape=(2,), dtype=int32))) to a dense Tensor of unknown shape. This may consume a large amount of memory.\n",
      "  \"shape. This may consume a large amount of memory.\" % value)\n",
      "C:\\Users\\ym20201\\Anaconda3\\envs\\tdaf-tf2p7\\lib\\site-packages\\tensorflow\\python\\framework\\indexed_slices.py:450: UserWarning: Converting sparse IndexedSlices(IndexedSlices(indices=Tensor(\"gradient_tape/private__graph_conv_keras_model_14/graph_pool_27/Reshape_14:0\", shape=(500,), dtype=int32), values=Tensor(\"gradient_tape/private__graph_conv_keras_model_14/graph_pool_27/Reshape_13:0\", shape=(500, 64), dtype=float32), dense_shape=Tensor(\"gradient_tape/private__graph_conv_keras_model_14/graph_pool_27/Cast_4:0\", shape=(2,), dtype=int32))) to a dense Tensor of unknown shape. This may consume a large amount of memory.\n",
      "  \"shape. This may consume a large amount of memory.\" % value)\n",
      "C:\\Users\\ym20201\\Anaconda3\\envs\\tdaf-tf2p7\\lib\\site-packages\\tensorflow\\python\\framework\\indexed_slices.py:450: UserWarning: Converting sparse IndexedSlices(IndexedSlices(indices=Tensor(\"gradient_tape/private__graph_conv_keras_model_14/graph_pool_27/Reshape_17:0\", shape=(1582,), dtype=int32), values=Tensor(\"gradient_tape/private__graph_conv_keras_model_14/graph_pool_27/Reshape_16:0\", shape=(1582, 64), dtype=float32), dense_shape=Tensor(\"gradient_tape/private__graph_conv_keras_model_14/graph_pool_27/Cast_5:0\", shape=(2,), dtype=int32))) to a dense Tensor of unknown shape. This may consume a large amount of memory.\n",
      "  \"shape. This may consume a large amount of memory.\" % value)\n",
      "C:\\Users\\ym20201\\Anaconda3\\envs\\tdaf-tf2p7\\lib\\site-packages\\tensorflow\\python\\framework\\indexed_slices.py:450: UserWarning: Converting sparse IndexedSlices(IndexedSlices(indices=Tensor(\"gradient_tape/private__graph_conv_keras_model_14/graph_pool_27/Reshape_20:0\", shape=(1350,), dtype=int32), values=Tensor(\"gradient_tape/private__graph_conv_keras_model_14/graph_pool_27/Reshape_19:0\", shape=(1350, 64), dtype=float32), dense_shape=Tensor(\"gradient_tape/private__graph_conv_keras_model_14/graph_pool_27/Cast_6:0\", shape=(2,), dtype=int32))) to a dense Tensor of unknown shape. This may consume a large amount of memory.\n",
      "  \"shape. This may consume a large amount of memory.\" % value)\n",
      "C:\\Users\\ym20201\\Anaconda3\\envs\\tdaf-tf2p7\\lib\\site-packages\\tensorflow\\python\\framework\\indexed_slices.py:450: UserWarning: Converting sparse IndexedSlices(IndexedSlices(indices=Tensor(\"gradient_tape/private__graph_conv_keras_model_14/graph_pool_27/Reshape_23:0\", shape=(252,), dtype=int32), values=Tensor(\"gradient_tape/private__graph_conv_keras_model_14/graph_pool_27/Reshape_22:0\", shape=(252, 64), dtype=float32), dense_shape=Tensor(\"gradient_tape/private__graph_conv_keras_model_14/graph_pool_27/Cast_7:0\", shape=(2,), dtype=int32))) to a dense Tensor of unknown shape. This may consume a large amount of memory.\n",
      "  \"shape. This may consume a large amount of memory.\" % value)\n"
     ]
    },
    {
     "name": "stderr",
     "output_type": "stream",
     "text": [
      "C:\\Users\\ym20201\\Anaconda3\\envs\\tdaf-tf2p7\\lib\\site-packages\\tensorflow\\python\\framework\\indexed_slices.py:450: UserWarning: Converting sparse IndexedSlices(IndexedSlices(indices=Tensor(\"gradient_tape/private__graph_conv_keras_model_14/graph_pool_28/Reshape_14:0\", shape=(None,), dtype=int32), values=Tensor(\"gradient_tape/private__graph_conv_keras_model_14/graph_pool_28/Reshape_13:0\", shape=(None, 64), dtype=float32), dense_shape=Tensor(\"gradient_tape/private__graph_conv_keras_model_14/graph_pool_28/Cast_4:0\", shape=(2,), dtype=int32))) to a dense Tensor of unknown shape. This may consume a large amount of memory.\n",
      "  \"shape. This may consume a large amount of memory.\" % value)\n",
      "C:\\Users\\ym20201\\Anaconda3\\envs\\tdaf-tf2p7\\lib\\site-packages\\tensorflow\\python\\framework\\indexed_slices.py:450: UserWarning: Converting sparse IndexedSlices(IndexedSlices(indices=Tensor(\"gradient_tape/private__graph_conv_keras_model_14/graph_pool_28/Reshape_17:0\", shape=(None,), dtype=int32), values=Tensor(\"gradient_tape/private__graph_conv_keras_model_14/graph_pool_28/Reshape_16:0\", shape=(None, 64), dtype=float32), dense_shape=Tensor(\"gradient_tape/private__graph_conv_keras_model_14/graph_pool_28/Cast_5:0\", shape=(2,), dtype=int32))) to a dense Tensor of unknown shape. This may consume a large amount of memory.\n",
      "  \"shape. This may consume a large amount of memory.\" % value)\n",
      "C:\\Users\\ym20201\\Anaconda3\\envs\\tdaf-tf2p7\\lib\\site-packages\\tensorflow\\python\\framework\\indexed_slices.py:450: UserWarning: Converting sparse IndexedSlices(IndexedSlices(indices=Tensor(\"gradient_tape/private__graph_conv_keras_model_14/graph_pool_28/Reshape_20:0\", shape=(None,), dtype=int32), values=Tensor(\"gradient_tape/private__graph_conv_keras_model_14/graph_pool_28/Reshape_19:0\", shape=(None, 64), dtype=float32), dense_shape=Tensor(\"gradient_tape/private__graph_conv_keras_model_14/graph_pool_28/Cast_6:0\", shape=(2,), dtype=int32))) to a dense Tensor of unknown shape. This may consume a large amount of memory.\n",
      "  \"shape. This may consume a large amount of memory.\" % value)\n",
      "C:\\Users\\ym20201\\Anaconda3\\envs\\tdaf-tf2p7\\lib\\site-packages\\tensorflow\\python\\framework\\indexed_slices.py:450: UserWarning: Converting sparse IndexedSlices(IndexedSlices(indices=Tensor(\"gradient_tape/private__graph_conv_keras_model_14/graph_pool_28/Reshape_23:0\", shape=(None,), dtype=int32), values=Tensor(\"gradient_tape/private__graph_conv_keras_model_14/graph_pool_28/Reshape_22:0\", shape=(None, 64), dtype=float32), dense_shape=Tensor(\"gradient_tape/private__graph_conv_keras_model_14/graph_pool_28/Cast_7:0\", shape=(2,), dtype=int32))) to a dense Tensor of unknown shape. This may consume a large amount of memory.\n",
      "  \"shape. This may consume a large amount of memory.\" % value)\n",
      "C:\\Users\\ym20201\\Anaconda3\\envs\\tdaf-tf2p7\\lib\\site-packages\\tensorflow\\python\\framework\\indexed_slices.py:450: UserWarning: Converting sparse IndexedSlices(IndexedSlices(indices=Tensor(\"gradient_tape/private__graph_conv_keras_model_14/graph_conv_28/Reshape_11:0\", shape=(None,), dtype=int32), values=Tensor(\"gradient_tape/private__graph_conv_keras_model_14/graph_conv_28/Reshape_10:0\", shape=(None, 64), dtype=float32), dense_shape=Tensor(\"gradient_tape/private__graph_conv_keras_model_14/graph_conv_28/Cast:0\", shape=(2,), dtype=int32))) to a dense Tensor of unknown shape. This may consume a large amount of memory.\n",
      "  \"shape. This may consume a large amount of memory.\" % value)\n",
      "C:\\Users\\ym20201\\Anaconda3\\envs\\tdaf-tf2p7\\lib\\site-packages\\tensorflow\\python\\framework\\indexed_slices.py:450: UserWarning: Converting sparse IndexedSlices(IndexedSlices(indices=Tensor(\"gradient_tape/private__graph_conv_keras_model_14/graph_conv_28/Reshape_13:0\", shape=(None,), dtype=int32), values=Tensor(\"gradient_tape/private__graph_conv_keras_model_14/graph_conv_28/Reshape_12:0\", shape=(None, 64), dtype=float32), dense_shape=Tensor(\"gradient_tape/private__graph_conv_keras_model_14/graph_conv_28/Cast_1:0\", shape=(2,), dtype=int32))) to a dense Tensor of unknown shape. This may consume a large amount of memory.\n",
      "  \"shape. This may consume a large amount of memory.\" % value)\n",
      "C:\\Users\\ym20201\\Anaconda3\\envs\\tdaf-tf2p7\\lib\\site-packages\\tensorflow\\python\\framework\\indexed_slices.py:450: UserWarning: Converting sparse IndexedSlices(IndexedSlices(indices=Tensor(\"gradient_tape/private__graph_conv_keras_model_14/graph_conv_28/Reshape_15:0\", shape=(None,), dtype=int32), values=Tensor(\"gradient_tape/private__graph_conv_keras_model_14/graph_conv_28/Reshape_14:0\", shape=(None, 64), dtype=float32), dense_shape=Tensor(\"gradient_tape/private__graph_conv_keras_model_14/graph_conv_28/Cast_2:0\", shape=(2,), dtype=int32))) to a dense Tensor of unknown shape. This may consume a large amount of memory.\n",
      "  \"shape. This may consume a large amount of memory.\" % value)\n",
      "C:\\Users\\ym20201\\Anaconda3\\envs\\tdaf-tf2p7\\lib\\site-packages\\tensorflow\\python\\framework\\indexed_slices.py:450: UserWarning: Converting sparse IndexedSlices(IndexedSlices(indices=Tensor(\"gradient_tape/private__graph_conv_keras_model_14/graph_conv_28/Reshape_17:0\", shape=(None,), dtype=int32), values=Tensor(\"gradient_tape/private__graph_conv_keras_model_14/graph_conv_28/Reshape_16:0\", shape=(None, 64), dtype=float32), dense_shape=Tensor(\"gradient_tape/private__graph_conv_keras_model_14/graph_conv_28/Cast_3:0\", shape=(2,), dtype=int32))) to a dense Tensor of unknown shape. This may consume a large amount of memory.\n",
      "  \"shape. This may consume a large amount of memory.\" % value)\n",
      "C:\\Users\\ym20201\\Anaconda3\\envs\\tdaf-tf2p7\\lib\\site-packages\\tensorflow\\python\\framework\\indexed_slices.py:450: UserWarning: Converting sparse IndexedSlices(IndexedSlices(indices=Tensor(\"gradient_tape/private__graph_conv_keras_model_14/graph_pool_27/Reshape_14:0\", shape=(None,), dtype=int32), values=Tensor(\"gradient_tape/private__graph_conv_keras_model_14/graph_pool_27/Reshape_13:0\", shape=(None, 64), dtype=float32), dense_shape=Tensor(\"gradient_tape/private__graph_conv_keras_model_14/graph_pool_27/Cast_4:0\", shape=(2,), dtype=int32))) to a dense Tensor of unknown shape. This may consume a large amount of memory.\n",
      "  \"shape. This may consume a large amount of memory.\" % value)\n",
      "C:\\Users\\ym20201\\Anaconda3\\envs\\tdaf-tf2p7\\lib\\site-packages\\tensorflow\\python\\framework\\indexed_slices.py:450: UserWarning: Converting sparse IndexedSlices(IndexedSlices(indices=Tensor(\"gradient_tape/private__graph_conv_keras_model_14/graph_pool_27/Reshape_17:0\", shape=(None,), dtype=int32), values=Tensor(\"gradient_tape/private__graph_conv_keras_model_14/graph_pool_27/Reshape_16:0\", shape=(None, 64), dtype=float32), dense_shape=Tensor(\"gradient_tape/private__graph_conv_keras_model_14/graph_pool_27/Cast_5:0\", shape=(2,), dtype=int32))) to a dense Tensor of unknown shape. This may consume a large amount of memory.\n",
      "  \"shape. This may consume a large amount of memory.\" % value)\n",
      "C:\\Users\\ym20201\\Anaconda3\\envs\\tdaf-tf2p7\\lib\\site-packages\\tensorflow\\python\\framework\\indexed_slices.py:450: UserWarning: Converting sparse IndexedSlices(IndexedSlices(indices=Tensor(\"gradient_tape/private__graph_conv_keras_model_14/graph_pool_27/Reshape_20:0\", shape=(None,), dtype=int32), values=Tensor(\"gradient_tape/private__graph_conv_keras_model_14/graph_pool_27/Reshape_19:0\", shape=(None, 64), dtype=float32), dense_shape=Tensor(\"gradient_tape/private__graph_conv_keras_model_14/graph_pool_27/Cast_6:0\", shape=(2,), dtype=int32))) to a dense Tensor of unknown shape. This may consume a large amount of memory.\n",
      "  \"shape. This may consume a large amount of memory.\" % value)\n",
      "C:\\Users\\ym20201\\Anaconda3\\envs\\tdaf-tf2p7\\lib\\site-packages\\tensorflow\\python\\framework\\indexed_slices.py:450: UserWarning: Converting sparse IndexedSlices(IndexedSlices(indices=Tensor(\"gradient_tape/private__graph_conv_keras_model_14/graph_pool_27/Reshape_23:0\", shape=(None,), dtype=int32), values=Tensor(\"gradient_tape/private__graph_conv_keras_model_14/graph_pool_27/Reshape_22:0\", shape=(None, 64), dtype=float32), dense_shape=Tensor(\"gradient_tape/private__graph_conv_keras_model_14/graph_pool_27/Cast_7:0\", shape=(2,), dtype=int32))) to a dense Tensor of unknown shape. This may consume a large amount of memory.\n",
      "  \"shape. This may consume a large amount of memory.\" % value)\n"
     ]
    },
    {
     "name": "stderr",
     "output_type": "stream",
     "text": [
      "C:\\Users\\ym20201\\Anaconda3\\envs\\tdaf-tf2p7\\lib\\site-packages\\tensorflow\\python\\framework\\indexed_slices.py:450: UserWarning: Converting sparse IndexedSlices(IndexedSlices(indices=Tensor(\"gradient_tape/private__graph_conv_keras_model_14/graph_pool_28/Reshape_26:0\", shape=(None,), dtype=int32), values=Tensor(\"gradient_tape/private__graph_conv_keras_model_14/graph_pool_28/Reshape_25:0\", shape=(None, 64), dtype=float32), dense_shape=Tensor(\"gradient_tape/private__graph_conv_keras_model_14/graph_pool_28/Cast_8:0\", shape=(2,), dtype=int32))) to a dense Tensor of unknown shape. This may consume a large amount of memory.\n",
      "  \"shape. This may consume a large amount of memory.\" % value)\n",
      "C:\\Users\\ym20201\\Anaconda3\\envs\\tdaf-tf2p7\\lib\\site-packages\\tensorflow\\python\\framework\\indexed_slices.py:450: UserWarning: Converting sparse IndexedSlices(IndexedSlices(indices=Tensor(\"gradient_tape/private__graph_conv_keras_model_14/graph_pool_28/Reshape_29:0\", shape=(None,), dtype=int32), values=Tensor(\"gradient_tape/private__graph_conv_keras_model_14/graph_pool_28/Reshape_28:0\", shape=(None, 64), dtype=float32), dense_shape=Tensor(\"gradient_tape/private__graph_conv_keras_model_14/graph_pool_28/Cast_9:0\", shape=(2,), dtype=int32))) to a dense Tensor of unknown shape. This may consume a large amount of memory.\n",
      "  \"shape. This may consume a large amount of memory.\" % value)\n",
      "C:\\Users\\ym20201\\Anaconda3\\envs\\tdaf-tf2p7\\lib\\site-packages\\tensorflow\\python\\framework\\indexed_slices.py:450: UserWarning: Converting sparse IndexedSlices(IndexedSlices(indices=Tensor(\"gradient_tape/private__graph_conv_keras_model_14/graph_conv_28/Reshape_21:0\", shape=(None,), dtype=int32), values=Tensor(\"gradient_tape/private__graph_conv_keras_model_14/graph_conv_28/Reshape_20:0\", shape=(None, 64), dtype=float32), dense_shape=Tensor(\"gradient_tape/private__graph_conv_keras_model_14/graph_conv_28/Cast_5:0\", shape=(2,), dtype=int32))) to a dense Tensor of unknown shape. This may consume a large amount of memory.\n",
      "  \"shape. This may consume a large amount of memory.\" % value)\n",
      "C:\\Users\\ym20201\\Anaconda3\\envs\\tdaf-tf2p7\\lib\\site-packages\\tensorflow\\python\\framework\\indexed_slices.py:450: UserWarning: Converting sparse IndexedSlices(IndexedSlices(indices=Tensor(\"gradient_tape/private__graph_conv_keras_model_14/graph_pool_27/Reshape_26:0\", shape=(None,), dtype=int32), values=Tensor(\"gradient_tape/private__graph_conv_keras_model_14/graph_pool_27/Reshape_25:0\", shape=(None, 64), dtype=float32), dense_shape=Tensor(\"gradient_tape/private__graph_conv_keras_model_14/graph_pool_27/Cast_8:0\", shape=(2,), dtype=int32))) to a dense Tensor of unknown shape. This may consume a large amount of memory.\n",
      "  \"shape. This may consume a large amount of memory.\" % value)\n",
      "C:\\Users\\ym20201\\Anaconda3\\envs\\tdaf-tf2p7\\lib\\site-packages\\tensorflow\\python\\framework\\indexed_slices.py:450: UserWarning: Converting sparse IndexedSlices(IndexedSlices(indices=Tensor(\"gradient_tape/private__graph_conv_keras_model_14/graph_pool_27/Reshape_29:0\", shape=(None,), dtype=int32), values=Tensor(\"gradient_tape/private__graph_conv_keras_model_14/graph_pool_27/Reshape_28:0\", shape=(None, 64), dtype=float32), dense_shape=Tensor(\"gradient_tape/private__graph_conv_keras_model_14/graph_pool_27/Cast_9:0\", shape=(2,), dtype=int32))) to a dense Tensor of unknown shape. This may consume a large amount of memory.\n",
      "  \"shape. This may consume a large amount of memory.\" % value)\n",
      "C:\\Users\\ym20201\\Anaconda3\\envs\\tdaf-tf2p7\\lib\\site-packages\\tensorflow\\python\\framework\\indexed_slices.py:450: UserWarning: Converting sparse IndexedSlices(IndexedSlices(indices=Tensor(\"gradient_tape/private__graph_conv_keras_model_14/graph_pool_28/Reshape_32:0\", shape=(None,), dtype=int32), values=Tensor(\"gradient_tape/private__graph_conv_keras_model_14/graph_pool_28/Reshape_31:0\", shape=(None, 64), dtype=float32), dense_shape=Tensor(\"gradient_tape/private__graph_conv_keras_model_14/graph_pool_28/Cast_10:0\", shape=(2,), dtype=int32))) to a dense Tensor of unknown shape. This may consume a large amount of memory.\n",
      "  \"shape. This may consume a large amount of memory.\" % value)\n",
      "C:\\Users\\ym20201\\Anaconda3\\envs\\tdaf-tf2p7\\lib\\site-packages\\tensorflow\\python\\framework\\indexed_slices.py:450: UserWarning: Converting sparse IndexedSlices(IndexedSlices(indices=Tensor(\"gradient_tape/private__graph_conv_keras_model_14/graph_pool_28/Reshape_35:0\", shape=(None,), dtype=int32), values=Tensor(\"gradient_tape/private__graph_conv_keras_model_14/graph_pool_28/Reshape_34:0\", shape=(None, 64), dtype=float32), dense_shape=Tensor(\"gradient_tape/private__graph_conv_keras_model_14/graph_pool_28/Cast_11:0\", shape=(2,), dtype=int32))) to a dense Tensor of unknown shape. This may consume a large amount of memory.\n",
      "  \"shape. This may consume a large amount of memory.\" % value)\n",
      "C:\\Users\\ym20201\\Anaconda3\\envs\\tdaf-tf2p7\\lib\\site-packages\\tensorflow\\python\\framework\\indexed_slices.py:450: UserWarning: Converting sparse IndexedSlices(IndexedSlices(indices=Tensor(\"gradient_tape/private__graph_conv_keras_model_14/graph_conv_28/Reshape_19:0\", shape=(None,), dtype=int32), values=Tensor(\"gradient_tape/private__graph_conv_keras_model_14/graph_conv_28/Reshape_18:0\", shape=(None, 64), dtype=float32), dense_shape=Tensor(\"gradient_tape/private__graph_conv_keras_model_14/graph_conv_28/Cast_4:0\", shape=(2,), dtype=int32))) to a dense Tensor of unknown shape. This may consume a large amount of memory.\n",
      "  \"shape. This may consume a large amount of memory.\" % value)\n",
      "C:\\Users\\ym20201\\Anaconda3\\envs\\tdaf-tf2p7\\lib\\site-packages\\tensorflow\\python\\framework\\indexed_slices.py:450: UserWarning: Converting sparse IndexedSlices(IndexedSlices(indices=Tensor(\"gradient_tape/private__graph_conv_keras_model_14/graph_pool_27/Reshape_32:0\", shape=(None,), dtype=int32), values=Tensor(\"gradient_tape/private__graph_conv_keras_model_14/graph_pool_27/Reshape_31:0\", shape=(None, 64), dtype=float32), dense_shape=Tensor(\"gradient_tape/private__graph_conv_keras_model_14/graph_pool_27/Cast_10:0\", shape=(2,), dtype=int32))) to a dense Tensor of unknown shape. This may consume a large amount of memory.\n",
      "  \"shape. This may consume a large amount of memory.\" % value)\n",
      "C:\\Users\\ym20201\\Anaconda3\\envs\\tdaf-tf2p7\\lib\\site-packages\\tensorflow\\python\\framework\\indexed_slices.py:450: UserWarning: Converting sparse IndexedSlices(IndexedSlices(indices=Tensor(\"gradient_tape/private__graph_conv_keras_model_14/graph_pool_27/Reshape_35:0\", shape=(None,), dtype=int32), values=Tensor(\"gradient_tape/private__graph_conv_keras_model_14/graph_pool_27/Reshape_34:0\", shape=(None, 64), dtype=float32), dense_shape=Tensor(\"gradient_tape/private__graph_conv_keras_model_14/graph_pool_27/Cast_11:0\", shape=(2,), dtype=int32))) to a dense Tensor of unknown shape. This may consume a large amount of memory.\n",
      "  \"shape. This may consume a large amount of memory.\" % value)\n"
     ]
    },
    {
     "data": {
      "text/plain": [
       "0.9747229894002278"
      ]
     },
     "execution_count": 41,
     "metadata": {},
     "output_type": "execute_result"
    }
   ],
   "source": [
    "convmol_model.fit(\n",
    "    train_data,\n",
    "    nb_epoch=10)"
   ]
  },
  {
   "cell_type": "code",
   "execution_count": 42,
   "id": "b0d29033",
   "metadata": {},
   "outputs": [
    {
     "data": {
      "text/plain": [
       "{'balanced_accuracy_score': 0.7405171117875738}"
      ]
     },
     "execution_count": 42,
     "metadata": {},
     "output_type": "execute_result"
    }
   ],
   "source": [
    "# metric = dc.metrics.Metric(dc.metrics.roc_auc_score) #doesnt work\n",
    "\n",
    "#Accuracy classification score\n",
    "metric = dc.metrics.Metric(dc.metrics.balanced_accuracy_score)\n",
    "convmol_model.evaluate(train_data, [metric], transformers)"
   ]
  },
  {
   "cell_type": "code",
   "execution_count": 69,
   "id": "5409186a",
   "metadata": {},
   "outputs": [
    {
     "data": {
      "text/plain": [
       "array([[0., 0., 0., ..., 0., 0., 0.],\n",
       "       [0., 0., 0., ..., 0., 0., 0.],\n",
       "       [0., 0., 0., ..., 0., 0., 0.],\n",
       "       ...,\n",
       "       [0., 0., 0., ..., 0., 0., 0.],\n",
       "       [0., 0., 0., ..., 0., 0., 0.],\n",
       "       [0., 0., 0., ..., 0., 1., 0.]])"
      ]
     },
     "execution_count": 69,
     "metadata": {},
     "output_type": "execute_result"
    }
   ],
   "source": [
    "train_data.y"
   ]
  },
  {
   "cell_type": "code",
   "execution_count": 74,
   "id": "319ee80a",
   "metadata": {},
   "outputs": [
    {
     "data": {
      "text/plain": [
       "array([[[8.33617210e-01, 1.63484052e-01, 4.67835169e-04, ...,\n",
       "         8.67635972e-05, 1.31598790e-04, 2.05754550e-04],\n",
       "        [9.24356461e-01, 7.25726634e-02, 4.70698906e-05, ...,\n",
       "         3.05094494e-04, 1.89511018e-04, 8.32762526e-05],\n",
       "        [5.87989032e-01, 4.11606967e-01, 2.73202531e-05, ...,\n",
       "         5.92077558e-05, 2.04156895e-05, 6.85867917e-06],\n",
       "        ...,\n",
       "        [6.08100414e-01, 3.91219854e-01, 7.43473720e-05, ...,\n",
       "         2.65122799e-05, 4.07190746e-05, 3.25317633e-05],\n",
       "        [7.48789966e-01, 2.50528634e-01, 3.64298903e-05, ...,\n",
       "         6.71951348e-05, 7.59222094e-05, 7.30786705e-05],\n",
       "        [8.11415970e-01, 1.88235104e-01, 6.19808816e-06, ...,\n",
       "         6.78201977e-05, 2.98236610e-05, 4.48059400e-05]],\n",
       "\n",
       "       [[9.84343529e-01, 1.12059331e-02, 3.50672839e-04, ...,\n",
       "         1.75566573e-04, 2.02706084e-04, 1.54363675e-04],\n",
       "        [9.83691812e-01, 1.53255565e-02, 2.58297350e-05, ...,\n",
       "         5.48934186e-05, 1.27633699e-04, 5.60281114e-05],\n",
       "        [9.77670789e-01, 2.02141181e-02, 2.76834879e-04, ...,\n",
       "         2.32380087e-04, 1.37147159e-04, 2.25466691e-04],\n",
       "        ...,\n",
       "        [8.42524946e-01, 1.55480638e-01, 2.96426093e-04, ...,\n",
       "         7.72732965e-05, 1.23222751e-04, 2.03441479e-04],\n",
       "        [9.40181553e-01, 5.79375438e-02, 1.67120568e-04, ...,\n",
       "         1.54460911e-04, 1.17271782e-04, 1.94176886e-04],\n",
       "        [9.80139494e-01, 1.89328492e-02, 3.23097956e-05, ...,\n",
       "         1.84067656e-04, 1.18595628e-04, 1.18684788e-04]],\n",
       "\n",
       "       [[7.11468756e-01, 2.84871191e-01, 1.30700108e-04, ...,\n",
       "         2.39572055e-05, 1.77208465e-04, 6.30205468e-05],\n",
       "        [8.27829123e-01, 1.64922595e-01, 3.43594176e-04, ...,\n",
       "         2.28494545e-03, 1.73049269e-03, 2.32429811e-04],\n",
       "        [6.03927732e-01, 3.94548297e-01, 9.20474049e-05, ...,\n",
       "         1.62968136e-04, 1.45507496e-04, 5.72324061e-05],\n",
       "        ...,\n",
       "        [3.62433583e-01, 6.34977043e-01, 1.86669975e-04, ...,\n",
       "         6.73560789e-05, 1.05434250e-04, 4.55378249e-05],\n",
       "        [4.95955855e-01, 5.02686679e-01, 1.23409787e-04, ...,\n",
       "         1.60860945e-04, 1.30449436e-04, 1.93952263e-04],\n",
       "        [8.59139860e-01, 1.39302567e-01, 1.15757448e-05, ...,\n",
       "         2.23823445e-04, 6.83550534e-05, 9.02854008e-05]],\n",
       "\n",
       "       ...,\n",
       "\n",
       "       [[9.45229113e-01, 4.68160361e-02, 1.69737192e-04, ...,\n",
       "         1.54071706e-04, 2.29333993e-04, 3.01142078e-04],\n",
       "        [9.63337362e-01, 3.58194001e-02, 9.98726609e-05, ...,\n",
       "         2.42066017e-05, 4.56872003e-05, 5.83430556e-05],\n",
       "        [9.84348595e-01, 1.40154930e-02, 3.49959708e-04, ...,\n",
       "         1.82773118e-04, 1.68230501e-04, 2.06095952e-04],\n",
       "        ...,\n",
       "        [8.86884332e-01, 1.11866102e-01, 4.12148336e-04, ...,\n",
       "         5.89510200e-05, 3.13984747e-05, 8.26660689e-05],\n",
       "        [9.24494803e-01, 7.04253539e-02, 2.10228580e-04, ...,\n",
       "         4.86511708e-04, 2.90998258e-04, 7.93237006e-04],\n",
       "        [9.89080667e-01, 8.85452796e-03, 1.20675853e-04, ...,\n",
       "         6.64136373e-04, 3.60692356e-04, 1.36175877e-04]],\n",
       "\n",
       "       [[6.90169334e-01, 2.96615601e-01, 8.95636447e-04, ...,\n",
       "         4.65690799e-04, 4.28716332e-04, 9.71197849e-04],\n",
       "        [7.91011274e-01, 1.98461220e-01, 1.08753005e-03, ...,\n",
       "         7.74637912e-04, 1.28344214e-03, 4.51169297e-04],\n",
       "        [9.47007239e-01, 5.20090833e-02, 3.56983037e-05, ...,\n",
       "         6.52615709e-05, 1.37494164e-04, 6.69706496e-05],\n",
       "        ...,\n",
       "        [7.82935262e-01, 2.14278385e-01, 4.40492440e-04, ...,\n",
       "         1.39170821e-04, 2.26283344e-04, 9.32642943e-05],\n",
       "        [9.67740178e-01, 3.16342004e-02, 4.46847953e-05, ...,\n",
       "         1.31599460e-04, 1.69491570e-04, 2.30301212e-05],\n",
       "        [9.26717401e-01, 7.06262439e-02, 1.03521605e-04, ...,\n",
       "         3.92079412e-04, 3.06976610e-04, 2.64228147e-04]],\n",
       "\n",
       "       [[4.71312732e-01, 5.23624361e-01, 1.36107812e-03, ...,\n",
       "         8.26924297e-05, 8.14893632e-04, 3.14062258e-04],\n",
       "        [3.89882445e-01, 6.04621410e-01, 2.70424411e-04, ...,\n",
       "         1.05549511e-03, 3.61154205e-04, 1.29984895e-04],\n",
       "        [4.71391410e-01, 5.24169087e-01, 6.89816254e-04, ...,\n",
       "         2.44909665e-04, 1.87005819e-04, 1.97176865e-04],\n",
       "        ...,\n",
       "        [1.98324353e-01, 7.88958073e-01, 2.31041340e-04, ...,\n",
       "         3.04210873e-04, 2.10797705e-04, 1.06426021e-04],\n",
       "        [2.36674204e-01, 7.60417163e-01, 3.66270833e-04, ...,\n",
       "         3.17571627e-04, 4.66920726e-04, 1.20201512e-04],\n",
       "        [2.77543873e-01, 7.19349444e-01, 2.01437942e-04, ...,\n",
       "         9.54554416e-04, 2.81131099e-04, 4.11974441e-04]]], dtype=float32)"
      ]
     },
     "execution_count": 74,
     "metadata": {},
     "output_type": "execute_result"
    }
   ],
   "source": [
    "pred = convmol_model.predict(train_data)\n",
    "pred"
   ]
  },
  {
   "cell_type": "code",
   "execution_count": null,
   "id": "b352c70b",
   "metadata": {},
   "outputs": [],
   "source": []
  },
  {
   "cell_type": "code",
   "execution_count": null,
   "id": "1bc305d8",
   "metadata": {},
   "outputs": [],
   "source": []
  },
  {
   "cell_type": "code",
   "execution_count": null,
   "id": "e8c6a549",
   "metadata": {},
   "outputs": [],
   "source": []
  },
  {
   "cell_type": "code",
   "execution_count": null,
   "id": "9bf7fbbc",
   "metadata": {},
   "outputs": [],
   "source": []
  },
  {
   "cell_type": "code",
   "execution_count": 8,
   "id": "e7828051",
   "metadata": {},
   "outputs": [],
   "source": [
    "# #epoch - number of times data is shown to NN\n",
    "# model.fit(train_data, nb_epoch=10) #training model"
   ]
  },
  {
   "cell_type": "code",
   "execution_count": 12,
   "id": "6e45ee19",
   "metadata": {},
   "outputs": [],
   "source": [
    "# #Converting numpy array to tensor\n",
    "# train_tensor = []\n",
    "# for i in range(len(train_feat)):\n",
    "#     tensor = tf.convert_to_tensor(train_feat[i])\n",
    "#     train_tensor.append(tensor)\n",
    "    \n",
    "# valid_tensor = []\n",
    "# for i in range(len(valid_feat)):\n",
    "#     tensor_v = tf.convert_to_tensor(valid_feat[i])\n",
    "#     valid_tensor.append(tensor_v)\n",
    "    \n",
    "# test_tensor = []\n",
    "# for i in range(len(test_feat)):\n",
    "#     tensor_t = tf.convert_to_tensor(test_feat[i])\n",
    "#     test_tensor.append(tensor_t)"
   ]
  },
  {
   "cell_type": "code",
   "execution_count": 22,
   "id": "de48bc35",
   "metadata": {},
   "outputs": [],
   "source": [
    "# metric = dc.metrics.Metric(dc.metrics.pearson_r2_score)\n",
    "# print(\"Training set score:\", model.evaluate(train_data, [metric], transformers))\n",
    "# print(\"Test set score:\", model.evaluate(test_data, [metric], transformers))"
   ]
  },
  {
   "cell_type": "code",
   "execution_count": 13,
   "id": "46d54920",
   "metadata": {},
   "outputs": [],
   "source": [
    "# #Constructing the model\n",
    "# # keras_model = Sequential([\n",
    "# #     layers.Dense(50, activation='relu'), # hidden layer\n",
    "# #     layers.Dense(1) # output layer\n",
    "# # ])\n",
    "\n",
    "# # model = dc.models.KerasModel(keras_model, dc.models.losses.L1Loss())\n",
    "# # model.fit(train_feat, nb_epoch=10)\n",
    "\n",
    "# keras_model = Sequential()\n",
    "# keras_model.add(layers.Conv2D(filters=32,\n",
    "#                           kernel_size=3,\n",
    "#                           activation='relu',\n",
    "#                           dilation_rate=2,\n",
    "#                              input_shape=(80, 80, 1)))\n",
    "# keras_model.add(layers.MaxPooling2D(pool_size=(2,2)))\n",
    "# #dropout to avoid overfitting\n",
    "# keras_model.add(layers.Dense(50, activation='relu'))\n",
    "# keras_model.add(layers.Dense(1))\n",
    "\n",
    "# keras_model.build()"
   ]
  },
  {
   "cell_type": "code",
   "execution_count": 14,
   "id": "7a62fc31",
   "metadata": {},
   "outputs": [],
   "source": [
    "# keras_model.compile(optimizer='adam', loss='mean_squared_error')\n",
    "# keras_model.summary()"
   ]
  },
  {
   "cell_type": "code",
   "execution_count": 45,
   "id": "591367f7",
   "metadata": {},
   "outputs": [],
   "source": [
    "# tf.convert_to_tensor(train_feat[0])\n"
   ]
  },
  {
   "cell_type": "code",
   "execution_count": 15,
   "id": "a398da73",
   "metadata": {},
   "outputs": [],
   "source": [
    "# keras_model.fit(x=train_feat,\n",
    "#                 y=train_feat,\n",
    "#                 epochs=10,\n",
    "#                 batch_size=512,\n",
    "#                 shuffle=True,\n",
    "#                validation_data=(valid_feat, valid_feat))"
   ]
  },
  {
   "cell_type": "code",
   "execution_count": 12,
   "id": "1455370c",
   "metadata": {},
   "outputs": [],
   "source": [
    "#Autoencoder"
   ]
  },
  {
   "cell_type": "code",
   "execution_count": null,
   "id": "bd0588f3",
   "metadata": {},
   "outputs": [],
   "source": []
  }
 ],
 "metadata": {
  "kernelspec": {
   "display_name": "Python 3 (ipykernel)",
   "language": "python",
   "name": "python3"
  },
  "language_info": {
   "codemirror_mode": {
    "name": "ipython",
    "version": 3
   },
   "file_extension": ".py",
   "mimetype": "text/x-python",
   "name": "python",
   "nbconvert_exporter": "python",
   "pygments_lexer": "ipython3",
   "version": "3.7.12"
  }
 },
 "nbformat": 4,
 "nbformat_minor": 5
}
