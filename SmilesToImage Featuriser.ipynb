{
 "cells": [
  {
   "cell_type": "code",
   "execution_count": 1,
   "id": "502c238c",
   "metadata": {},
   "outputs": [
    {
     "name": "stderr",
     "output_type": "stream",
     "text": [
      "2023-04-07 16:15:07.106580: I tensorflow/core/platform/cpu_feature_guard.cc:193] This TensorFlow binary is optimized with oneAPI Deep Neural Network Library (oneDNN) to use the following CPU instructions in performance-critical operations:  AVX2 FMA\n",
      "To enable them in other operations, rebuild TensorFlow with the appropriate compiler flags.\n"
     ]
    }
   ],
   "source": [
    "#Import Statements\n",
    "import deepchem as dc\n",
    "from rdkit import Chem\n",
    "from rdkit.Chem import Draw\n",
    "import tensorflow as tf\n",
    "from tensorflow.keras.models import Model\n",
    "from tensorflow.keras import layers, losses\n",
    "\n",
    "import pandas as pd\n",
    "\n",
    "from matplotlib import pyplot as plt\n",
    "\n",
    "import numpy as np\n",
    "\n",
    "from sklearn import metrics\n",
    "from sklearn.metrics import f1_score\n",
    "from sklearn.metrics import (precision_recall_curve, average_precision_score, PrecisionRecallDisplay)\n",
    "from sklearn.metrics import accuracy_score\n",
    "from sklearn.metrics import balanced_accuracy_score\n",
    "from sklearn.metrics import roc_auc_score"
   ]
  },
  {
   "cell_type": "markdown",
   "id": "8014c4c2",
   "metadata": {},
   "source": [
    "## Loading Tox21 dataset using SmilesToImage featuriser"
   ]
  },
  {
   "cell_type": "markdown",
   "id": "349b90e5",
   "metadata": {},
   "source": [
    "Tox21 Assay List: <br>\n",
    "<ol>\n",
    "    <li> NR-AR </li>\n",
    "    <li> NR-AR-LBD </li>\n",
    "    <li> NR-AhR </li>\n",
    "    <li> NR-Aromatase </li>\n",
    "    <li> NR-ER </li>\n",
    "    <li> NR-ER-LBD </li>\n",
    "    <li> NR-PPAR-gamma </li>\n",
    "    <li> SR-ARE </li>\n",
    "    <li> SR-ATAD5 </li>\n",
    "    <li> SR-HSE </li>\n",
    "    <li> SR-MMP </li>\n",
    "    <li> SR-p53 </li>\n",
    "</ol>"
   ]
  },
  {
   "cell_type": "code",
   "execution_count": 2,
   "id": "22e87661",
   "metadata": {},
   "outputs": [],
   "source": [
    "# #Checking deepchem version\n",
    "# dc.__version__"
   ]
  },
  {
   "cell_type": "code",
   "execution_count": 3,
   "id": "2a09c252",
   "metadata": {},
   "outputs": [],
   "source": [
    "#SmilesToImage Featuriser\n",
    "tasks, datasets, transformers = dc.molnet.load_tox21(\n",
    "    featurizer = dc.feat.SmilesToImage(img_size=100, img_spec='std'),\n",
    "    save_dir=r'C:\\Users\\ym20201\\Documents\\Datasets',\n",
    "    data_dir=r'C:\\Users\\ym20201\\Documents\\Datasets')\n",
    "\n",
    "splitter = dc.splits.RandomSplitter()\n",
    "\n",
    "train_data, valid_data, test_data = datasets"
   ]
  },
  {
   "cell_type": "markdown",
   "id": "c60ddf10",
   "metadata": {},
   "source": [
    "### Visualising the molecules in the dataset"
   ]
  },
  {
   "cell_type": "markdown",
   "id": "ad0794b1",
   "metadata": {},
   "source": [
    "The featurised inputs are 2-dimensional so they can be used in pre-built functions were used to output the molecular structures."
   ]
  },
  {
   "cell_type": "code",
   "execution_count": 4,
   "id": "50092c23",
   "metadata": {},
   "outputs": [
    {
     "data": {
      "image/png": "[encoded data removed]",
      "text/plain": [
       "<rdkit.Chem.rdchem.Mol at 0x7fddf0b15940>"
      ]
     },
     "execution_count": 4,
     "metadata": {},
     "output_type": "execute_result"
    }
   ],
   "source": [
    "Chem.MolFromSmiles(train_data.ids[5])"
   ]
  },
  {
   "cell_type": "code",
   "execution_count": 5,
   "id": "6c3c0d62",
   "metadata": {},
   "outputs": [
    {
     "data": {
      "text/plain": [
       "<matplotlib.image.AxesImage at 0x7fddf0c1ba90>"
      ]
     },
     "execution_count": 5,
     "metadata": {},
     "output_type": "execute_result"
    },
    {
     "data": {
      "image/png": "[encoded data removed]",
      "text/plain": [
       "<Figure size 640x480 with 1 Axes>"
      ]
     },
     "metadata": {},
     "output_type": "display_data"
    }
   ],
   "source": [
    "plt.imshow(train_data.X[5], interpolation='nearest')"
   ]
  },
  {
   "cell_type": "markdown",
   "id": "09e4d128",
   "metadata": {},
   "source": [
    "## Convolutional Neural Network (CNN) model"
   ]
  },
  {
   "cell_type": "code",
   "execution_count": 6,
   "id": "ff98d6ba",
   "metadata": {},
   "outputs": [
    {
     "name": "stderr",
     "output_type": "stream",
     "text": [
      "2023-04-07 16:15:27.453185: I tensorflow/core/platform/cpu_feature_guard.cc:193] This TensorFlow binary is optimized with oneAPI Deep Neural Network Library (oneDNN) to use the following CPU instructions in performance-critical operations:  AVX2 FMA\n",
      "To enable them in other operations, rebuild TensorFlow with the appropriate compiler flags.\n"
     ]
    }
   ],
   "source": [
    "#Model 1 - 2 layered CNN\n",
    "smiles2img_model1 = dc.models.CNN(\n",
    "    n_tasks = len(tasks), # Num of tasks, i.e. width of y\n",
    "    n_features=len(train_data.X[2]), # number of features, i.e. width of X\n",
    "    dims=1,\n",
    "    layer_filters=[100,100],\n",
    "    mode='classification',\n",
    "    weight_init_stddevs=0.02, \n",
    "    bias_init_consts=1.0,\n",
    "    dropouts=0.5,\n",
    "    dense_layer_size=[500,200], #number of units inside [] indicate number of layers\n",
    "    activation_fns=['relu'],\n",
    "    uncertainty=False,\n",
    "    residual=False,\n",
    "    padding='valid') "
   ]
  },
  {
   "cell_type": "code",
   "execution_count": 7,
   "id": "b79b85c6",
   "metadata": {},
   "outputs": [],
   "source": [
    "#Model 2\n",
    "smiles2img_model2 = dc.models.CNN(\n",
    "    n_tasks = len(tasks), # Num of tasks, i.e. width of y\n",
    "    n_features=len(train_data.X[2]), # number of features, i.e. width of X\n",
    "    dims=1,\n",
    "    layer_filters=[100,100],\n",
    "    mode='classification',\n",
    "    weight_init_stddevs=0.02, \n",
    "    bias_init_consts=1.0,\n",
    "    dropouts=0.5,\n",
    "    dense_layer_size=[1000,500], #increased layer size\n",
    "    activation_fns=['relu'],\n",
    "    uncertainty=False,\n",
    "    residual=False,\n",
    "    padding='valid') "
   ]
  },
  {
   "cell_type": "code",
   "execution_count": 8,
   "id": "f178ee45",
   "metadata": {},
   "outputs": [],
   "source": [
    "#Model 3 - Model 1 with added max pooling layer\n",
    "smiles2img_model3 = dc.models.CNN(\n",
    "    n_tasks = len(tasks), # Num of tasks, i.e. width of y\n",
    "    n_features=len(train_data.X[2]), # number of features, i.e. width of X\n",
    "    dims=1,\n",
    "    layer_filters=[100,100],\n",
    "    mode='classification',\n",
    "    weight_init_stddevs=0.02, \n",
    "    bias_init_consts=1.0,\n",
    "    dropouts=0.5,\n",
    "    dense_layer_size=[500,200], \n",
    "    activation_fns=['relu'],\n",
    "    uncertainty=False,\n",
    "    pool_type='max', #max pooling layer\n",
    "    residual=False,\n",
    "    padding='valid') "
   ]
  },
  {
   "cell_type": "code",
   "execution_count": 9,
   "id": "d704e6a6",
   "metadata": {},
   "outputs": [],
   "source": [
    "#Model 4 - increased number of layers to 3 layers\n",
    "smiles2img_model4 = dc.models.CNN(\n",
    "    n_tasks = len(tasks), # Num of tasks, i.e. width of y\n",
    "    n_features=len(train_data.X[2]), # number of features, i.e. width of X\n",
    "    dims=1,\n",
    "    layer_filter=[1000,500,100], \n",
    "    mode='classification',\n",
    "    weight_init_stddevs=0.02, \n",
    "    bias_init_consts=1.0,\n",
    "    dropouts=0.5,\n",
    "    dense_layer_size=[500,200,200],\n",
    "    activation_fns=['relu'],\n",
    "    uncertainty=False,\n",
    "    residual=False,\n",
    "    padding='valid') "
   ]
  },
  {
   "cell_type": "code",
   "execution_count": 10,
   "id": "3eeb28b2",
   "metadata": {},
   "outputs": [],
   "source": [
    "#Model 5 - model 4 with max pooling\n",
    "smiles2img_model5 = dc.models.CNN(\n",
    "    n_tasks = len(tasks), # Num of tasks, i.e. width of y\n",
    "    n_features=len(train_data.X[2]), # number of features, i.e. width of X\n",
    "    dims=1,\n",
    "    layer_filter=[1000,500,100], \n",
    "    mode='classification',\n",
    "    weight_init_stddevs=0.02, \n",
    "    bias_init_consts=1.0,\n",
    "    dropouts=0.5,\n",
    "    dense_layer_size=[500,200,200],\n",
    "    activation_fns=['relu'],\n",
    "    uncertainty=False,\n",
    "    pool_type='max',\n",
    "    residual=False,\n",
    "    padding='valid') "
   ]
  },
  {
   "cell_type": "code",
   "execution_count": 11,
   "id": "3f14606f",
   "metadata": {},
   "outputs": [],
   "source": [
    "#Model 6 - testing different amounts of dropout\n",
    "smiles2img_model6 = dc.models.CNN(\n",
    "    n_tasks = len(tasks), # Num of tasks, i.e. width of y\n",
    "    n_features=len(train_data.X[2]), # number of features, i.e. width of X\n",
    "    dims=1,\n",
    "    layer_filter=[500,500,200],\n",
    "    mode='classification',\n",
    "    weight_init_stddevs=0.02, \n",
    "    bias_init_consts=1.0,\n",
    "    dropouts=[0.5, 0.0,0.0], \n",
    "    dense_layer_size=[500,200,100],\n",
    "    activation_fns=['relu'],\n",
    "    uncertainty=False,\n",
    "    pool_type='max',\n",
    "    residual=False,\n",
    "    padding='valid') "
   ]
  },
  {
   "cell_type": "code",
   "execution_count": 12,
   "id": "136e4490",
   "metadata": {},
   "outputs": [],
   "source": [
    "#Model 7\n",
    "smiles2img_model7 = dc.models.CNN(\n",
    "    n_tasks = len(tasks), # Num of tasks, i.e. width of y\n",
    "    n_features=len(train_data.X[2]), # number of features, i.e. width of X\n",
    "    dims=1,\n",
    "    layer_filter=[500,500,200],\n",
    "    mode='classification',\n",
    "    weight_init_stddevs=0.02, \n",
    "    bias_init_consts=1.0,\n",
    "    dropouts=0.5,\n",
    "    dense_layer_size=[500,200,100],\n",
    "    activation_fns=['relu'],\n",
    "    uncertainty=False,\n",
    "    pool_type='max',\n",
    "    residual=False,\n",
    "    padding='valid') "
   ]
  },
  {
   "cell_type": "markdown",
   "id": "aa0fb9d7",
   "metadata": {},
   "source": [
    "To select the best performing models, each model was evaluated using balanced accuracy, recall and f1-score."
   ]
  },
  {
   "cell_type": "code",
   "execution_count": 13,
   "id": "f0b028ed",
   "metadata": {},
   "outputs": [
    {
     "data": {
      "text/plain": [
       "0.9408013661702473"
      ]
     },
     "execution_count": 13,
     "metadata": {},
     "output_type": "execute_result"
    }
   ],
   "source": [
    "#Fitting models with best performance - Models 2, 5, 7\n",
    "smiles2img_model2.fit(\n",
    "    train_data,\n",
    "    nb_epoch=10)\n",
    "\n",
    "smiles2img_model5.fit(\n",
    "    train_data,\n",
    "    nb_epoch=10)\n",
    "\n",
    "smiles2img_model7.fit(\n",
    "    train_data,\n",
    "    nb_epoch=10)"
   ]
  },
  {
   "cell_type": "code",
   "execution_count": 14,
   "id": "fc31f80a",
   "metadata": {},
   "outputs": [
    {
     "data": {
      "text/plain": [
       "{'balanced_accuracy_score': 0.5514503577574841,\n",
       " 'recall_score': 0.5394181353887028,\n",
       " 'f1_score': 0.14129331116252683}"
      ]
     },
     "execution_count": 14,
     "metadata": {},
     "output_type": "execute_result"
    }
   ],
   "source": [
    "#Evaluation Metrics\n",
    "metric = dc.metrics.Metric(dc.metrics.balanced_accuracy_score)\n",
    "metric1 = dc.metrics.Metric(dc.metrics.recall_score)\n",
    "metric2 = dc.metrics.Metric(dc.metrics.f1_score)\n",
    "\n",
    "smiles2img_model7.evaluate(test_data, [metric, metric1, metric2], transformers)"
   ]
  },
  {
   "cell_type": "code",
   "execution_count": 15,
   "id": "6299c7a7",
   "metadata": {},
   "outputs": [
    {
     "name": "stdout",
     "output_type": "stream",
     "text": [
      "WARNING:tensorflow:5 out of the last 17 calls to <function KerasModel._compute_model at 0x7fdd426fec10> triggered tf.function retracing. Tracing is expensive and the excessive number of tracings could be due to (1) creating @tf.function repeatedly in a loop, (2) passing tensors with different shapes, (3) passing Python objects instead of tensors. For (1), please define your @tf.function outside of the loop. For (2), @tf.function has reduce_retracing=True option that can avoid unnecessary retracing. For (3), please refer to https://www.tensorflow.org/guide/function#controlling_retracing and https://www.tensorflow.org/api_docs/python/tf/function for  more details.\n"
     ]
    }
   ],
   "source": [
    "#Using the models for prediction\n",
    "m2_pred_data = smiles2img_model2.predict(test_data)\n",
    "m5_pred_data = smiles2img_model5.predict(test_data)\n",
    "m7_pred_data = smiles2img_model7.predict(test_data)"
   ]
  },
  {
   "cell_type": "markdown",
   "id": "cde8903b",
   "metadata": {},
   "source": [
    "Functions were used to access the true values and predicted values of each assay from the test dataset. The values were compiled into an array of y_true and y_pred values to be used for plotting."
   ]
  },
  {
   "cell_type": "code",
   "execution_count": 16,
   "id": "9d7a5ea0",
   "metadata": {},
   "outputs": [],
   "source": [
    "#Function for accessing y_true of each assay\n",
    "def y_true(assay_num, test_data):\n",
    "    y_true = []\n",
    "    for i in range(len(test_data.y)):\n",
    "        y_true.append(test_data.y[i][assay_num - 1])\n",
    "        \n",
    "    return y_true\n",
    "\n",
    "#Function for accessing y_pred of each assay\n",
    "def y_pred(assay_num, pred_data):\n",
    "    y_pred = []\n",
    "    for i in range(len(pred_data)):\n",
    "        y_pred.append( pred_data[i][assay_num - 1][0])\n",
    "    \n",
    "    return y_pred"
   ]
  },
  {
   "cell_type": "code",
   "execution_count": 17,
   "id": "1de90b76",
   "metadata": {},
   "outputs": [],
   "source": [
    "#y_true of each assay\n",
    "y_true_1 = y_true(1, test_data)\n",
    "y_true_2 = y_true(2, test_data)\n",
    "y_true_3 = y_true(3, test_data)\n",
    "y_true_4 = y_true(4, test_data)\n",
    "y_true_5 = y_true(5, test_data)\n",
    "y_true_6 = y_true(6, test_data)\n",
    "y_true_7 = y_true(7, test_data)\n",
    "y_true_8 = y_true(8, test_data)\n",
    "y_true_9 = y_true(9, test_data)\n",
    "y_true_10 = y_true(10, test_data)\n",
    "y_true_11 = y_true(11, test_data)\n",
    "y_true_12 = y_true(12, test_data)"
   ]
  },
  {
   "cell_type": "code",
   "execution_count": 18,
   "id": "85f60e0f",
   "metadata": {},
   "outputs": [],
   "source": [
    "y_true = [y_true_1, y_true_2, y_true_3, y_true_4, y_true_5, \n",
    "        y_true_6, y_true_7, y_true_8, y_true_9, y_true_10,\n",
    "        y_true_11, y_true_12]"
   ]
  },
  {
   "cell_type": "markdown",
   "id": "a707c232",
   "metadata": {},
   "source": [
    "The numbers following each variable indicates which assay the values are for, for example, 'y_true_2' are the true values for the 2nd assay - NR-AR-LBD."
   ]
  },
  {
   "cell_type": "markdown",
   "id": "645081cb",
   "metadata": {},
   "source": [
    "### Model 2 - y_pred"
   ]
  },
  {
   "cell_type": "code",
   "execution_count": 19,
   "id": "7201bb44",
   "metadata": {},
   "outputs": [],
   "source": [
    "#y_pred of each assay\n",
    "m2_y_pred_1 = y_pred(1, m2_pred_data)\n",
    "m2_y_pred_2 = y_pred(2, m2_pred_data)\n",
    "m2_y_pred_3 = y_pred(3, m2_pred_data)\n",
    "m2_y_pred_4 = y_pred(4, m2_pred_data)\n",
    "m2_y_pred_5 = y_pred(5, m2_pred_data)\n",
    "m2_y_pred_6 = y_pred(6, m2_pred_data)\n",
    "m2_y_pred_7 = y_pred(7, m2_pred_data)\n",
    "m2_y_pred_8 = y_pred(8, m2_pred_data)\n",
    "m2_y_pred_9 = y_pred(9, m2_pred_data)\n",
    "m2_y_pred_10 = y_pred(10, m2_pred_data)\n",
    "m2_y_pred_11 = y_pred(11, m2_pred_data)\n",
    "m2_y_pred_12 = y_pred(12, m2_pred_data)"
   ]
  },
  {
   "cell_type": "markdown",
   "id": "415d5fcf",
   "metadata": {},
   "source": [
    "The predicted probabilities for toxicity had to be rounded to binary values, to be compatible for comparison with the y_true values, which are already binary values. This step was repeated for the other two models."
   ]
  },
  {
   "cell_type": "code",
   "execution_count": 20,
   "id": "b5b9518a",
   "metadata": {},
   "outputs": [],
   "source": [
    "#Function to round predicted probabilities to binary values\n",
    "def round_pred(y_pred):\n",
    "    y_pred_new = []\n",
    "    for i in range(len(y_pred)):\n",
    "        if y_pred[i] < 0.5:\n",
    "            new = 0\n",
    "        else:\n",
    "            new = 1\n",
    "        y_pred_new.append(new)\n",
    "    return y_pred_new"
   ]
  },
  {
   "cell_type": "code",
   "execution_count": 21,
   "id": "5610a2da",
   "metadata": {},
   "outputs": [],
   "source": [
    "m2_y_pred_new_1 = round_pred(m2_y_pred_1)\n",
    "m2_y_pred_new_2 = round_pred(m2_y_pred_2)\n",
    "m2_y_pred_new_3 = round_pred(m2_y_pred_3)\n",
    "m2_y_pred_new_4 = round_pred(m2_y_pred_4)\n",
    "m2_y_pred_new_5 = round_pred(m2_y_pred_5)\n",
    "m2_y_pred_new_6 = round_pred(m2_y_pred_6)\n",
    "m2_y_pred_new_7= round_pred(m2_y_pred_7)\n",
    "m2_y_pred_new_8 = round_pred(m2_y_pred_8)\n",
    "m2_y_pred_new_9 = round_pred(m2_y_pred_9)\n",
    "m2_y_pred_new_10 = round_pred(m2_y_pred_10)\n",
    "m2_y_pred_new_11 = round_pred(m2_y_pred_11)\n",
    "m2_y_pred_new_12 = round_pred(m2_y_pred_12)"
   ]
  },
  {
   "cell_type": "code",
   "execution_count": 22,
   "id": "ec54345d",
   "metadata": {},
   "outputs": [],
   "source": [
    "m2_y_pred = [m2_y_pred_1, m2_y_pred_2, m2_y_pred_3, m2_y_pred_4, m2_y_pred_5, \n",
    "             m2_y_pred_6, m2_y_pred_7, m2_y_pred_8, m2_y_pred_9, m2_y_pred_10,\n",
    "            m2_y_pred_11, m2_y_pred_12]\n",
    "\n",
    "m2_y_pred_new = [m2_y_pred_new_1, m2_y_pred_new_2, m2_y_pred_new_3, m2_y_pred_new_4, m2_y_pred_new_5, \n",
    "             m2_y_pred_new_6, m2_y_pred_new_7, m2_y_pred_new_8, m2_y_pred_new_9, m2_y_pred_new_10,\n",
    "            m2_y_pred_new_11, m2_y_pred_new_12]"
   ]
  },
  {
   "cell_type": "markdown",
   "id": "78ca106f",
   "metadata": {},
   "source": [
    "### Model 5 - y_pred"
   ]
  },
  {
   "cell_type": "code",
   "execution_count": 23,
   "id": "3c5c1149",
   "metadata": {},
   "outputs": [],
   "source": [
    "#y_pred of each assay\n",
    "m5_y_pred_1 = y_pred(1, m5_pred_data)\n",
    "m5_y_pred_2 = y_pred(2, m5_pred_data)\n",
    "m5_y_pred_3 = y_pred(3, m5_pred_data)\n",
    "m5_y_pred_4 = y_pred(4, m5_pred_data)\n",
    "m5_y_pred_5 = y_pred(5, m5_pred_data)\n",
    "m5_y_pred_6 = y_pred(6, m5_pred_data)\n",
    "m5_y_pred_7 = y_pred(7, m5_pred_data)\n",
    "m5_y_pred_8 = y_pred(8, m5_pred_data)\n",
    "m5_y_pred_9 = y_pred(9, m5_pred_data)\n",
    "m5_y_pred_10 = y_pred(10, m5_pred_data)\n",
    "m5_y_pred_11 = y_pred(11, m5_pred_data)\n",
    "m5_y_pred_12 = y_pred(12, m5_pred_data)"
   ]
  },
  {
   "cell_type": "code",
   "execution_count": 24,
   "id": "00a31d05",
   "metadata": {},
   "outputs": [],
   "source": [
    "#Rounding predicted probabilities to binary values\n",
    "m5_y_pred_new_1 = round_pred(m5_y_pred_1)\n",
    "m5_y_pred_new_2 = round_pred(m5_y_pred_2)\n",
    "m5_y_pred_new_3 = round_pred(m5_y_pred_3)\n",
    "m5_y_pred_new_4 = round_pred(m5_y_pred_4)\n",
    "m5_y_pred_new_5 = round_pred(m5_y_pred_5)\n",
    "m5_y_pred_new_6 = round_pred(m5_y_pred_6)\n",
    "m5_y_pred_new_7= round_pred(m5_y_pred_7)\n",
    "m5_y_pred_new_8 = round_pred(m5_y_pred_8)\n",
    "m5_y_pred_new_9 = round_pred(m5_y_pred_9)\n",
    "m5_y_pred_new_10 = round_pred(m5_y_pred_10)\n",
    "m5_y_pred_new_11 = round_pred(m5_y_pred_11)\n",
    "m5_y_pred_new_12 = round_pred(m5_y_pred_12)"
   ]
  },
  {
   "cell_type": "code",
   "execution_count": 25,
   "id": "b60ed228",
   "metadata": {},
   "outputs": [],
   "source": [
    "m5_y_pred = [m5_y_pred_1, m5_y_pred_2, m5_y_pred_3, m5_y_pred_4, m5_y_pred_5, \n",
    "             m5_y_pred_6, m5_y_pred_7, m5_y_pred_8, m5_y_pred_9, m5_y_pred_10,\n",
    "            m5_y_pred_11, m5_y_pred_12]\n",
    "\n",
    "m5_y_pred_new = [m5_y_pred_new_1, m5_y_pred_new_2, m5_y_pred_new_3, m5_y_pred_new_4, m5_y_pred_new_5, \n",
    "             m5_y_pred_new_6, m5_y_pred_new_7, m5_y_pred_new_8, m5_y_pred_new_9, m5_y_pred_new_10,\n",
    "            m5_y_pred_new_11, m5_y_pred_new_12]"
   ]
  },
  {
   "cell_type": "markdown",
   "id": "9c5a1637",
   "metadata": {},
   "source": [
    "### Model 7 - y_pred"
   ]
  },
  {
   "cell_type": "code",
   "execution_count": 26,
   "id": "552bab74",
   "metadata": {},
   "outputs": [],
   "source": [
    "#y_pred of each assay\n",
    "m7_y_pred_1 = y_pred(1, m7_pred_data)\n",
    "m7_y_pred_2 = y_pred(2, m7_pred_data)\n",
    "m7_y_pred_3 = y_pred(3, m7_pred_data)\n",
    "m7_y_pred_4 = y_pred(4, m7_pred_data)\n",
    "m7_y_pred_5 = y_pred(5, m7_pred_data)\n",
    "m7_y_pred_6 = y_pred(6, m7_pred_data)\n",
    "m7_y_pred_7 = y_pred(7, m7_pred_data)\n",
    "m7_y_pred_8 = y_pred(8, m7_pred_data)\n",
    "m7_y_pred_9 = y_pred(9, m7_pred_data)\n",
    "m7_y_pred_10 = y_pred(10, m7_pred_data)\n",
    "m7_y_pred_11 = y_pred(11, m7_pred_data)\n",
    "m7_y_pred_12 = y_pred(12, m7_pred_data)"
   ]
  },
  {
   "cell_type": "code",
   "execution_count": 27,
   "id": "4a2be134",
   "metadata": {},
   "outputs": [],
   "source": [
    "#Rounding predicted probabilities to binary values\n",
    "m7_y_pred_new_1 = round_pred(m7_y_pred_1)\n",
    "m7_y_pred_new_2 = round_pred(m7_y_pred_2)\n",
    "m7_y_pred_new_3 = round_pred(m7_y_pred_3)\n",
    "m7_y_pred_new_4 = round_pred(m7_y_pred_4)\n",
    "m7_y_pred_new_5 = round_pred(m7_y_pred_5)\n",
    "m7_y_pred_new_6 = round_pred(m7_y_pred_6)\n",
    "m7_y_pred_new_7= round_pred(m7_y_pred_7)\n",
    "m7_y_pred_new_8 = round_pred(m5_y_pred_8)\n",
    "m7_y_pred_new_9 = round_pred(m7_y_pred_9)\n",
    "m7_y_pred_new_10 = round_pred(m7_y_pred_10)\n",
    "m7_y_pred_new_11 = round_pred(m7_y_pred_11)\n",
    "m7_y_pred_new_12 = round_pred(m7_y_pred_12)"
   ]
  },
  {
   "cell_type": "code",
   "execution_count": 28,
   "id": "e06959e9",
   "metadata": {},
   "outputs": [],
   "source": [
    "m7_y_pred = [m7_y_pred_1, m7_y_pred_2, m7_y_pred_3, m7_y_pred_4, m7_y_pred_5, \n",
    "             m7_y_pred_6, m7_y_pred_7, m7_y_pred_8, m7_y_pred_9, m7_y_pred_10,\n",
    "            m7_y_pred_11, m7_y_pred_12]\n",
    "\n",
    "m7_y_pred_new = [m7_y_pred_new_1, m7_y_pred_new_2, m7_y_pred_new_3, m7_y_pred_new_4, m7_y_pred_new_5, \n",
    "             m7_y_pred_new_6, m7_y_pred_new_7, m7_y_pred_new_8, m7_y_pred_new_9, m7_y_pred_new_10,\n",
    "            m7_y_pred_new_11, m7_y_pred_new_12]"
   ]
  },
  {
   "cell_type": "markdown",
   "id": "6d3ec1a1",
   "metadata": {},
   "source": [
    "## Evaluating the model\n",
    "\n",
    "The three models were evaluated using various evaluation metrics to select the best model for this featuriser.\n",
    "\n",
    "### Precision and Recall score"
   ]
  },
  {
   "cell_type": "code",
   "execution_count": 29,
   "id": "b36361f7",
   "metadata": {},
   "outputs": [],
   "source": [
    "#Function to ouput precision, recall, and average precision score\n",
    "def precision_recall_score(y_true, y_pred):\n",
    "    precision_score = []\n",
    "    recall_score = []\n",
    "    for i in range(len(y_true)):\n",
    "        precision, recall, _ = precision_recall_curve(y_true[i], y_pred[i])\n",
    "        \n",
    "        precision_score.append(precision)\n",
    "        recall_score.append(recall)\n",
    "    \n",
    "    return precision_score, recall_score\n"
   ]
  },
  {
   "cell_type": "code",
   "execution_count": 30,
   "id": "29da152d",
   "metadata": {},
   "outputs": [],
   "source": [
    "def PrecisionRecallPlot(precision, recall, assays):\n",
    "    precision_recall = []\n",
    "    for i in range(len(precision)):\n",
    "        plot = PrecisionRecallDisplay(recall = recall[i], precision = precision[i])\n",
    "        precision_recall.append(plot)\n",
    "        \n",
    "    for i in range(len(precision_recall)):\n",
    "        precision_recall[i].plot(ax=ax, label=assays[i])"
   ]
  },
  {
   "cell_type": "code",
   "execution_count": 31,
   "id": "53258a3a",
   "metadata": {},
   "outputs": [],
   "source": [
    "m2_precision_score, m2_recall_score = precision_recall_score(y_true, m2_y_pred)\n",
    "m5_precision_score, m5_recall_score = precision_recall_score(y_true, m5_y_pred)\n",
    "m7_precision_score, m7_recall_score = precision_recall_score(y_true, m7_y_pred)"
   ]
  },
  {
   "cell_type": "code",
   "execution_count": 32,
   "id": "e48e8651",
   "metadata": {},
   "outputs": [],
   "source": [
    "assays = ['NR-AR', 'NR-AR-LBD','NR-AhR', 'NR-Aromatase', 'NR-ER', 'NR-ER-LBD', 'NR-PPAR-gamma',\n",
    "         'SR-ARE', 'SR-ATAD5', 'SR-HSE', 'SR-MMP', 'SR-p53']"
   ]
  },
  {
   "cell_type": "code",
   "execution_count": 33,
   "id": "a9353682",
   "metadata": {},
   "outputs": [
    {
     "data": {
      "text/plain": [
       "<matplotlib.legend.Legend at 0x7fdde6710040>"
      ]
     },
     "execution_count": 33,
     "metadata": {},
     "output_type": "execute_result"
    },
    {
     "data": {
      "image/png": "[encoded data removed]",
      "text/plain": [
       "<Figure size 1000x800 with 1 Axes>"
      ]
     },
     "metadata": {},
     "output_type": "display_data"
    }
   ],
   "source": [
    "fig, ax = plt.subplots(figsize=(10,8))\n",
    "\n",
    "PrecisionRecallPlot(m2_precision_score, m2_recall_score, assays)\n",
    "\n",
    "plt.title('SmilesToImage CNN Model 2 - Precision-Recall Curve for 12 assays') \n",
    "plt.legend(loc='upper right')\n",
    "# plt.savefig('Smiles2IMG M2 P-R.png')"
   ]
  },
  {
   "cell_type": "code",
   "execution_count": 34,
   "id": "9acd5641",
   "metadata": {},
   "outputs": [
    {
     "ename": "NameError",
     "evalue": "name 'm5_avg_precision_score' is not defined",
     "output_type": "error",
     "traceback": [
      "\u001b[0;31m---------------------------------------------------------------------------\u001b[0m",
      "\u001b[0;31mNameError\u001b[0m                                 Traceback (most recent call last)",
      "Input \u001b[0;32mIn [34]\u001b[0m, in \u001b[0;36m<cell line: 3>\u001b[0;34m()\u001b[0m\n\u001b[1;32m      1\u001b[0m fig, ax \u001b[38;5;241m=\u001b[39m plt\u001b[38;5;241m.\u001b[39msubplots(figsize\u001b[38;5;241m=\u001b[39m(\u001b[38;5;241m10\u001b[39m,\u001b[38;5;241m8\u001b[39m))\n\u001b[0;32m----> 3\u001b[0m PrecisionRecallPlot(m5_precision_score, m5_recall_score, \u001b[43mm5_avg_precision_score\u001b[49m, assays)\n\u001b[1;32m      5\u001b[0m plt\u001b[38;5;241m.\u001b[39mtitle(\u001b[38;5;124m'\u001b[39m\u001b[38;5;124mSmilesToImage CNN Model 5 - Precision-Recall Curve for 12 assays\u001b[39m\u001b[38;5;124m'\u001b[39m) \n\u001b[1;32m      6\u001b[0m plt\u001b[38;5;241m.\u001b[39mlegend(loc\u001b[38;5;241m=\u001b[39m\u001b[38;5;124m'\u001b[39m\u001b[38;5;124mupper right\u001b[39m\u001b[38;5;124m'\u001b[39m)\n",
      "\u001b[0;31mNameError\u001b[0m: name 'm5_avg_precision_score' is not defined"
     ]
    },
    {
     "data": {
      "image/png": "[encoded data removed]",
      "text/plain": [
       "<Figure size 1000x800 with 1 Axes>"
      ]
     },
     "metadata": {},
     "output_type": "display_data"
    }
   ],
   "source": [
    "fig, ax = plt.subplots(figsize=(10,8))\n",
    "\n",
    "PrecisionRecallPlot(m5_precision_score, m5_recall_score, m5_avg_precision_score, assays)\n",
    "\n",
    "plt.title('SmilesToImage CNN Model 5 - Precision-Recall Curve for 12 assays') \n",
    "plt.legend(loc='upper right')\n",
    "# plt.savefig('Smiles2IMG M5 P-R.png')"
   ]
  },
  {
   "cell_type": "code",
   "execution_count": null,
   "id": "934dead9",
   "metadata": {},
   "outputs": [],
   "source": [
    "fig, ax = plt.subplots(figsize=(10,8))\n",
    "\n",
    "PrecisionRecallPlot(m7_precision_score, m7_recall_score, m7_avg_precision_score, assays)\n",
    "\n",
    "plt.title('SmilesToImage CNN Model 7 - Precision-Recall Curve for 12 assays') \n",
    "plt.legend(loc='upper right')\n",
    "# plt.savefig('Smiles2IMG M7 P-R.png')"
   ]
  },
  {
   "cell_type": "markdown",
   "id": "780fbfaa",
   "metadata": {},
   "source": [
    "### Accuracy or Balanced Accuracy Score?"
   ]
  },
  {
   "cell_type": "code",
   "execution_count": null,
   "id": "8bf5aa62",
   "metadata": {},
   "outputs": [],
   "source": [
    "# #Checking if tox21 is imbalanced\n",
    "\n",
    "# from sklearn.metrics import accuracy_score\n",
    "# from sklearn.metrics import balanced_accuracy_score\n",
    "\n",
    "# #NR-AR Assay\n",
    "# acc = accuracy_score(y_true_1, y_pred_new_1)\n",
    "# b_acc = balanced_accuracy_score(y_true_1, y_pred_new_1)\n",
    "\n",
    "# #NR-AR-LBD\n",
    "# acc2 = accuracy_score(y_true_2, y_pred_new_2)\n",
    "# b_acc2 = balanced_accuracy_score(y_true_2, y_pred_new_2)\n",
    "\n",
    "# #NR-AhR\n",
    "# acc3 = accuracy_score(y_true_3, y_pred_new_3)\n",
    "# b_acc3 = balanced_accuracy_score(y_true_3, y_pred_new_3)\n",
    "\n",
    "# print(acc, b_acc)\n",
    "# print(acc2, b_acc2)\n",
    "# print(acc3, b_acc3)"
   ]
  },
  {
   "cell_type": "markdown",
   "id": "77005988",
   "metadata": {},
   "source": [
    "The difference in accuracy and balanced accuracy score suggests the Tox21 dataset is imbalanced. <br>\n",
    "The balanced accuracy score is better at reflecting true model performance on imbalanced datasets - something accuracy score is poor at."
   ]
  },
  {
   "cell_type": "markdown",
   "id": "7ef99ed1",
   "metadata": {},
   "source": [
    "### Balanced Accuracy Score"
   ]
  },
  {
   "cell_type": "code",
   "execution_count": null,
   "id": "94351d43",
   "metadata": {},
   "outputs": [],
   "source": [
    "def balanced_accuracy(y_true, y_pred):\n",
    "    balanced_acc = []\n",
    "    for i in range(len(y_true)):\n",
    "        b_acc = balanced_accuracy_score(y_true[i], y_pred[i])\n",
    "        balanced_acc.append(b_acc)\n",
    "    return balanced_acc"
   ]
  },
  {
   "cell_type": "code",
   "execution_count": null,
   "id": "f41159ba",
   "metadata": {},
   "outputs": [],
   "source": [
    "m2_balanced_acc = balanced_accuracy(y_true, m2_y_pred_new)\n",
    "m5_balanced_acc = balanced_accuracy(y_true, m5_y_pred_new)\n",
    "m7_balanced_acc = balanced_accuracy(y_true, m7_y_pred_new)"
   ]
  },
  {
   "cell_type": "code",
   "execution_count": null,
   "id": "8845e397",
   "metadata": {},
   "outputs": [],
   "source": [
    "b_acc_means = [np.mean(m2_balanced_acc), np.mean(m5_balanced_acc), np.mean(m7_balanced_acc)]\n",
    "b_acc_means"
   ]
  },
  {
   "cell_type": "code",
   "execution_count": null,
   "id": "6e500371",
   "metadata": {},
   "outputs": [],
   "source": [
    "b_acc_median = [np.median(m2_balanced_acc), np.median(m5_balanced_acc), np.median(m7_balanced_acc)]\n",
    "b_acc_median"
   ]
  },
  {
   "cell_type": "markdown",
   "id": "3c191ad9",
   "metadata": {},
   "source": [
    "The mean and median balanced accuracy score was used to assess the predictive ability of the models."
   ]
  },
  {
   "cell_type": "code",
   "execution_count": null,
   "id": "f2435bd0",
   "metadata": {},
   "outputs": [],
   "source": [
    "#Grouped bar plot\n",
    "fig,ax = plt.subplots(figsize=(20,10))\n",
    "\n",
    "width = 0.2\n",
    "\n",
    "x=np.arange(12)\n",
    "plt.bar(x-0.2, m2_balanced_acc, width, label='Model 2', color='navy')\n",
    "plt.bar(x, m5_balanced_acc, width, label='Model 5', color='gold')\n",
    "\n",
    "plt.bar(x+0.2, m7_balanced_acc, width, label='Model 7', color='teal')\n",
    "plt.title('SmilesToImage CNN Model - Balanced Accuracy Score of Tox21 Assays', fontsize=16)\n",
    "plt.ylabel('Balanced Accuracy Score', fontsize=14)\n",
    "plt.xlabel('Tox21 Assays', fontsize=14)\n",
    "\n",
    "#Bar labels\n",
    "plt.bar_label(ax.containers[0], fmt='%.3f', fontsize=12)\n",
    "plt.bar_label(ax.containers[1], fmt='%.3f', fontsize=12)\n",
    "plt.bar_label(ax.containers[2], fmt='%.3f', fontsize=12)\n",
    "\n",
    "#Assay labels\n",
    "plt.xticks(x, assays, fontsize=12)\n",
    "plt.yticks(fontsize=12)\n",
    "plt.legend()\n",
    "# plt.savefig('Smiles2IMG BA.png')"
   ]
  },
  {
   "cell_type": "code",
   "execution_count": null,
   "id": "3774b1a0",
   "metadata": {},
   "outputs": [],
   "source": [
    "#Balanced Accuracy Score split into NR and SR panels\n",
    "fig, ax = plt.subplots(2,1, figsize=(22,15))\n",
    "\n",
    "ax1 = ax[0]\n",
    "ax2 = ax[1]\n",
    "\n",
    "width = 0.2\n",
    "\n",
    "#NR Panel\n",
    "x=np.arange(7)\n",
    "\n",
    "ax1.bar(x-0.2, m2_balanced_acc[0:7], width, label='Model 2', color='navy')\n",
    "ax1.bar(x, m5_balanced_acc[0:7], width, label='Model 5', color='gold')\n",
    "ax1.bar(x+0.2, m7_balanced_acc[0:7], width, label='Model 7', color='teal')\n",
    "ax1.set_title('SmilesToImage CNN Model - Balanced Accuracy Score of Tox21 NR Assays', fontsize=16)\n",
    "ax1.set_ylabel('Balanced Accuracy Score', fontsize=14)\n",
    "ax1.set_xlabel('Nuclear Receptor Panel', fontsize=14)\n",
    "ax1.bar_label(ax1.containers[0], fmt='%.3f', fontsize=12)\n",
    "ax1.bar_label(ax1.containers[1], fmt='%.3f', fontsize=12)\n",
    "ax1.bar_label(ax1.containers[2], fmt='%.3f', fontsize=12)\n",
    "ax1.set_xticks(x, assays[0:7], fontsize=12)\n",
    "ax1.legend()\n",
    "\n",
    "\n",
    "#SR Panel\n",
    "x1=np.arange(5)\n",
    "\n",
    "ax2.bar(x1-0.2, m2_balanced_acc[7:12], width, label='Model 2', color='navy')\n",
    "ax2.bar(x1, m5_balanced_acc[7:12], width, label='Model 5', color='gold')\n",
    "ax2.bar(x1+0.2, m7_balanced_acc[7:12], width, label='Model 7', color='teal')\n",
    "ax2.set_title('SmilesToImage CNN Model - Balanced Accuracy Score of Tox21 SR Assays', fontsize=16)\n",
    "ax2.set_ylabel('Balanced Accuracy Score', fontsize=14)\n",
    "ax2.set_xlabel('Stress Response Panel', fontsize=14)\n",
    "ax2.bar_label(ax2.containers[0], fmt='%.3f', fontsize=12)\n",
    "ax2.bar_label(ax2.containers[1], fmt='%.3f', fontsize=12)\n",
    "ax2.bar_label(ax2.containers[2], fmt='%.3f', fontsize=12)\n",
    "ax2.set_xticks(x1, assays[7:12], fontsize=12)\n",
    "ax2.legend()\n"
   ]
  },
  {
   "cell_type": "markdown",
   "id": "ab0545bd",
   "metadata": {},
   "source": [
    "### F1-Score"
   ]
  },
  {
   "cell_type": "code",
   "execution_count": null,
   "id": "3f41bdf3",
   "metadata": {},
   "outputs": [],
   "source": [
    "def f1Score(y_true, y_pred):\n",
    "    f1_Score = []\n",
    "    for i in range(len(y_true)):\n",
    "        f1 = f1_score(y_true[i], y_pred[i])\n",
    "        f1_Score.append(f1)\n",
    "    return f1_Score"
   ]
  },
  {
   "cell_type": "code",
   "execution_count": null,
   "id": "f411a970",
   "metadata": {},
   "outputs": [],
   "source": [
    "m2_f1 = f1Score(y_true, m2_y_pred_new)\n",
    "m5_f1 = f1Score(y_true, m5_y_pred_new)\n",
    "m7_f1 = f1Score(y_true, m7_y_pred_new)"
   ]
  },
  {
   "cell_type": "code",
   "execution_count": null,
   "id": "27f8d709",
   "metadata": {},
   "outputs": [],
   "source": [
    "f1_means = [np.mean(m2_f1), np.mean(m5_f1), np.mean(m7_f1)]\n",
    "f1_means"
   ]
  },
  {
   "cell_type": "code",
   "execution_count": null,
   "id": "1689844b",
   "metadata": {},
   "outputs": [],
   "source": [
    "f1_median = [np.median(m2_f1), np.median(m5_f1), np.median(m7_f1)]\n",
    "f1_median"
   ]
  },
  {
   "cell_type": "code",
   "execution_count": null,
   "id": "656b4e95",
   "metadata": {},
   "outputs": [],
   "source": [
    "#Grouped bar plot\n",
    "fig,ax = plt.subplots(figsize=(20,10))\n",
    "\n",
    "width = 0.2\n",
    "\n",
    "x=np.arange(12)\n",
    "plt.bar(x-0.2, m2_f1, width, label='Model 2', color='navy')\n",
    "plt.bar(x, m5_f1, width, label='Model 5', color='gold')\n",
    "plt.bar(x+0.2, m7_f1, width, label='Model 7', color='teal')\n",
    "\n",
    "plt.title('SmilesToImage CNN Model - F1 Score of Tox21 Assays', fontsize=16)\n",
    "plt.ylabel('F1 Score', fontsize=14)\n",
    "plt.xlabel('Tox21 Assays', fontsize=14)\n",
    "\n",
    "#Bar labels\n",
    "plt.bar_label(ax.containers[0], fmt='%.3f', fontsize=12)\n",
    "plt.bar_label(ax.containers[1], fmt='%.3f', fontsize=12)\n",
    "plt.bar_label(ax.containers[2], fmt='%.3f', fontsize=12)\n",
    "\n",
    "#Assay labels\n",
    "plt.xticks(x, assays, fontsize=12)\n",
    "plt.yticks(fontsize=12)\n",
    "plt.legend()\n",
    "# plt.savefig('Smiles2IMG F1.png')"
   ]
  },
  {
   "cell_type": "code",
   "execution_count": null,
   "id": "3a965a04",
   "metadata": {
    "scrolled": true
   },
   "outputs": [],
   "source": [
    "#F1 Score split into NR and SR panels\n",
    "fig, ax = plt.subplots(2,1, figsize=(22,15))\n",
    "\n",
    "ax1 = ax[0]\n",
    "ax2 = ax[1]\n",
    "\n",
    "width = 0.2\n",
    "\n",
    "#NR Panel\n",
    "x=np.arange(7)\n",
    "\n",
    "ax1.bar(x-0.2, m2_f1[0:7], width, label='Model 2', color='navy')\n",
    "ax1.bar(x, m5_f1[0:7], width, label='Model 5', color='gold')\n",
    "ax1.bar(x+0.2, m7_f1[0:7], width, label='Model 7', color='teal')\n",
    "ax1.set_title('SmilesToImage CNN Model - F1 Score of Tox21 NR Assays', fontsize=16)\n",
    "ax1.set_ylabel('F1 Score', fontsize=14)\n",
    "ax1.set_xlabel('Nuclear Receptor Panel', fontsize=14)\n",
    "ax1.bar_label(ax1.containers[0], fmt='%.3f', fontsize=12)\n",
    "ax1.bar_label(ax1.containers[1], fmt='%.3f', fontsize=12)\n",
    "ax1.bar_label(ax1.containers[2], fmt='%.3f', fontsize=12)\n",
    "ax1.set_xticks(x, assays[0:7], fontsize=12)\n",
    "ax1.legend()\n",
    "\n",
    "\n",
    "#SR Panel\n",
    "x1=np.arange(5)\n",
    "\n",
    "ax2.bar(x1-0.2, m2_f1[7:12], width, label='Model 2', color='navy')\n",
    "ax2.bar(x1, m5_f1[7:12], width, label='Model 5', color='gold')\n",
    "ax2.bar(x1+0.2, m7_f1[7:12], width, label='Model 7', color='teal')\n",
    "ax2.set_title('SmilesToImage CNN Model - F1 Score of Tox21 SR Assays', fontsize=16)\n",
    "ax2.set_ylabel('F1 Score', fontsize=14)\n",
    "ax2.set_xlabel('Stress Response Panel', fontsize=14)\n",
    "ax2.bar_label(ax2.containers[0], fmt='%.3f', fontsize=12)\n",
    "ax2.bar_label(ax2.containers[1], fmt='%.3f', fontsize=12)\n",
    "ax2.bar_label(ax2.containers[2], fmt='%.3f', fontsize=12)\n",
    "ax2.set_xticks(x1, assays[7:12], fontsize=12)\n",
    "ax2.legend()"
   ]
  },
  {
   "cell_type": "markdown",
   "id": "8809a1b2",
   "metadata": {},
   "source": [
    "### ROC-AUC Score"
   ]
  },
  {
   "cell_type": "code",
   "execution_count": null,
   "id": "0da43423",
   "metadata": {},
   "outputs": [],
   "source": [
    "# Area Under the Receiver Operating Characteristic(ROC) Curve\n",
    "def roc_auc(y_true, y_pred):\n",
    "    rocauc=[]\n",
    "    for i in range(len(y_true)):\n",
    "        auroc = roc_auc_score(y_true[i], y_pred[i])\n",
    "        rocauc.append(auroc)\n",
    "    return rocauc"
   ]
  },
  {
   "cell_type": "code",
   "execution_count": null,
   "id": "0f78f79b",
   "metadata": {},
   "outputs": [],
   "source": [
    "m2_roc_auc = roc_auc(y_true, m2_y_pred_new)\n",
    "m5_roc_auc = roc_auc(y_true, m5_y_pred_new)\n",
    "m7_roc_auc = roc_auc(y_true, m7_y_pred_new)"
   ]
  },
  {
   "cell_type": "code",
   "execution_count": null,
   "id": "f9836666",
   "metadata": {},
   "outputs": [],
   "source": [
    "roc_mean = [np.mean(m2_roc_auc), np.mean(m5_roc_auc), np.mean(m7_roc_auc)]\n",
    "roc_mean"
   ]
  },
  {
   "cell_type": "code",
   "execution_count": null,
   "id": "696fb9f2",
   "metadata": {},
   "outputs": [],
   "source": [
    "roc_median = [np.median(m2_roc_auc), np.median(m5_roc_auc), np.median(m7_roc_auc)]\n",
    "roc_median"
   ]
  },
  {
   "cell_type": "code",
   "execution_count": null,
   "id": "556813ef",
   "metadata": {},
   "outputs": [],
   "source": [
    "#Grouped bar plot\n",
    "fig,ax = plt.subplots(figsize=(22,10))\n",
    "width = 0.2\n",
    "\n",
    "x=np.arange(12)\n",
    "plt.bar(x-0.2, m2_roc_auc, width, label='Model 2', color='navy')\n",
    "plt.bar(x, m5_roc_auc, width, label='Model 5', color='gold')\n",
    "plt.bar(x+0.2, m7_roc_auc, width, label='Model 7', color='teal')\n",
    "\n",
    "plt.title('SmilesToImage CNN Model - ROC-AUC of Tox21 Assays', fontsize=16)\n",
    "plt.ylabel('ROC-AUC', fontsize=14)\n",
    "plt.xlabel('Tox21 Assays', fontsize=14)\n",
    "\n",
    "#Bar labels\n",
    "plt.bar_label(ax.containers[0], fmt='%.3f', fontsize=11)\n",
    "plt.bar_label(ax.containers[1], fmt='%.3f', fontsize=11)\n",
    "plt.bar_label(ax.containers[2], fmt='%.3f', fontsize=11)\n",
    "\n",
    "#Assay labels\n",
    "plt.xticks(x, assays, fontsize=12)\n",
    "plt.yticks(fontsize=12)\n",
    "plt.legend()\n",
    "# plt.savefig('Smiles2IMG ROC-AUC.png')"
   ]
  },
  {
   "cell_type": "code",
   "execution_count": null,
   "id": "7c50b5d3",
   "metadata": {},
   "outputs": [],
   "source": [
    "#F1 Score split into NR and SR panels\n",
    "fig, ax = plt.subplots(2,1, figsize=(22,15))\n",
    "\n",
    "ax1 = ax[0]\n",
    "ax2 = ax[1]\n",
    "\n",
    "width = 0.2\n",
    "\n",
    "#NR Panel\n",
    "x=np.arange(7)\n",
    "\n",
    "ax1.bar(x-0.2, m2_roc_auc[0:7], width, label='Model 2', color='navy')\n",
    "ax1.bar(x, m5_roc_auc[0:7], width, label='Model 5', color='gold')\n",
    "ax1.bar(x+0.2, m7_roc_auc[0:7], width, label='Model 7', color='teal')\n",
    "ax1.set_title('SmilesToImage CNN Model - ROC-AUC of Tox21 NR Assays', fontsize=16)\n",
    "ax1.set_ylabel('ROC-AUC', fontsize=14)\n",
    "ax1.set_xlabel('Nuclear Receptor Panel', fontsize=14)\n",
    "ax1.bar_label(ax1.containers[0], fmt='%.3f', fontsize=12)\n",
    "ax1.bar_label(ax1.containers[1], fmt='%.3f', fontsize=12)\n",
    "ax1.bar_label(ax1.containers[2], fmt='%.3f', fontsize=12)\n",
    "ax1.set_xticks(x, assays[0:7], fontsize=12)\n",
    "ax1.legend()\n",
    "\n",
    "\n",
    "#SR Panel\n",
    "x1=np.arange(5)\n",
    "\n",
    "ax2.bar(x1-0.2, m2_roc_auc[7:12], width, label='Model 2', color='navy')\n",
    "ax2.bar(x1, m5_roc_auc[7:12], width, label='Model 5', color='gold')\n",
    "ax2.bar(x1+0.2, m7_roc_auc[7:12], width, label='Model 7', color='teal')\n",
    "ax2.set_title('SmilesToImage CNN Model - ROC-AUC of Tox21 SR Assays', fontsize=16)\n",
    "ax2.set_ylabel('ROC-AUC', fontsize=14)\n",
    "ax2.set_xlabel('Stress Response Panel', fontsize=14)\n",
    "ax2.bar_label(ax2.containers[0], fmt='%.3f', fontsize=12)\n",
    "ax2.bar_label(ax2.containers[1], fmt='%.3f', fontsize=12)\n",
    "ax2.bar_label(ax2.containers[2], fmt='%.3f', fontsize=12)\n",
    "ax2.set_xticks(x1, assays[7:12], fontsize=12)\n",
    "ax2.legend()"
   ]
  },
  {
   "cell_type": "code",
   "execution_count": null,
   "id": "c0257bdb",
   "metadata": {},
   "outputs": [],
   "source": []
  }
 ],
 "metadata": {
  "kernelspec": {
   "display_name": "Python 3 (ipykernel)",
   "language": "python",
   "name": "python3"
  },
  "language_info": {
   "codemirror_mode": {
    "name": "ipython",
    "version": 3
   },
   "file_extension": ".py",
   "mimetype": "text/x-python",
   "name": "python",
   "nbconvert_exporter": "python",
   "pygments_lexer": "ipython3",
   "version": "3.8.8"
  }
 },
 "nbformat": 4,
 "nbformat_minor": 5
}
