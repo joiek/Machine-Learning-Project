{
 "cells": [
  {
   "cell_type": "code",
   "execution_count": 1,
   "id": "b7bb192f",
   "metadata": {},
   "outputs": [],
   "source": [
    "#Import Statements\n",
    "import deepchem as dc\n",
    "from rdkit import Chem\n",
    "from rdkit.Chem import Draw\n",
    "import tensorflow as tf\n",
    "from tensorflow.keras.models import Sequential\n",
    "from tensorflow.keras import layers, losses\n",
    "\n",
    "import pandas as pd\n",
    "\n",
    "from matplotlib import pyplot as plt\n",
    "\n",
    "import numpy as np\n",
    "\n",
    "from sklearn import metrics\n",
    "from sklearn.metrics import f1_score\n",
    "\n",
    "import keras\n",
    "from keras import layers\n"
   ]
  },
  {
   "cell_type": "code",
   "execution_count": null,
   "id": "30b2dbf7",
   "metadata": {},
   "outputs": [],
   "source": []
  },
  {
   "cell_type": "code",
   "execution_count": 2,
   "id": "50cab9fa",
   "metadata": {},
   "outputs": [],
   "source": [
    "# #ECFP featuriser - splitting the training dataset into smaller datasets\n",
    "# #THIS WORKS FOR CONV MOL FEAT\n",
    "# tasks, datasets, transformers = dc.molnet.load_tox21(featurizer=dc.feat.ConvMolFeaturizer(),\n",
    "#     splitter='random',\n",
    "#     save_dir=r'C:\\Users\\ym20201\\Documents\\Datasets',\n",
    "#     data_dir=r'C:\\Users\\ym20201\\Documents\\Datasets')\n",
    "\n",
    "#"
   ]
  },
  {
   "cell_type": "code",
   "execution_count": 44,
   "id": "24276622",
   "metadata": {},
   "outputs": [],
   "source": [
    "#ECFP featuriser - splitting the training dataset into smaller datasets\n",
    "tasks, datasets, transformers = dc.molnet.load_tox21(\n",
    "    featurizer=dc.feat.CircularFingerprint(),\n",
    "    save_dir=r'C:\\Users\\ym20201\\Documents\\Datasets',\n",
    "    data_dir=r'C:\\Users\\ym20201\\Documents\\Datasets')\n",
    "\n",
    "# featurizer = dc.feat.CircularFingerprint(size=2048, radius=4)\n",
    "splitter = dc.splits.RandomSplitter()\n",
    "\n",
    "train_data, valid_data,test_data = splitter.train_valid_test_split(\n",
    "    datasets[0], \n",
    "    frac_train = 0.8, frac_valid = 0.08, frac_test = 0.12)\n",
    "\n",
    "# #Featurisation using Featurizer\n",
    "# train_feat = featurizer.featurize(train_data.ids)\n",
    "# valid_feat = featurizer.featurize(valid_data.ids)\n",
    "# test_feat = featurizer.featurize(test_data.ids)\n",
    "\n"
   ]
  },
  {
   "cell_type": "code",
   "execution_count": 45,
   "id": "b8af99bc",
   "metadata": {},
   "outputs": [],
   "source": [
    " train_data, valid_data, test_data = datasets"
   ]
  },
  {
   "cell_type": "code",
   "execution_count": 4,
   "id": "a82f4db0",
   "metadata": {},
   "outputs": [],
   "source": [
    "# train = tf.convert_to_tensor(train_data.ids)"
   ]
  },
  {
   "cell_type": "code",
   "execution_count": 5,
   "id": "45eca5d8",
   "metadata": {},
   "outputs": [
    {
     "data": {
      "text/plain": [
       "<DiskDataset X.shape: (5011, 2048), y.shape: (5011, 12), w.shape: (5011, 12), task_names: ['NR-AR' 'NR-AR-LBD' 'NR-AhR' ... 'SR-HSE' 'SR-MMP' 'SR-p53']>"
      ]
     },
     "execution_count": 5,
     "metadata": {},
     "output_type": "execute_result"
    }
   ],
   "source": [
    "train_data"
   ]
  },
  {
   "cell_type": "code",
   "execution_count": 6,
   "id": "2ab1325f",
   "metadata": {},
   "outputs": [
    {
     "data": {
      "text/plain": [
       "<DiskDataset X.shape: (501, 2048), y.shape: (501, 12), w.shape: (501, 12), ids: ['O=C(O)c1ccc(O)cc1' 'OCCSSCCO' 'Cc1ccc(S(N)(=O)=O)cc1' ...\n",
       " 'C=C/C(C)=C/C/C=C(\\\\C)CCC=C(C)C' 'CC(=O)Oc1cccc(O)c1'\n",
       " 'CC(C)=CCCC(C)=CC(=O)O'], task_names: ['NR-AR' 'NR-AR-LBD' 'NR-AhR' ... 'SR-HSE' 'SR-MMP' 'SR-p53']>"
      ]
     },
     "execution_count": 6,
     "metadata": {},
     "output_type": "execute_result"
    }
   ],
   "source": [
    "valid_data"
   ]
  },
  {
   "cell_type": "code",
   "execution_count": 10,
   "id": "5638f0e8",
   "metadata": {},
   "outputs": [
    {
     "data": {
      "text/plain": [
       "2048"
      ]
     },
     "execution_count": 10,
     "metadata": {},
     "output_type": "execute_result"
    }
   ],
   "source": [
    "len(valid_data.X[3])"
   ]
  },
  {
   "cell_type": "code",
   "execution_count": 52,
   "id": "3f41f140",
   "metadata": {},
   "outputs": [],
   "source": [
    "ECFP_model = dc.models.MultitaskClassifier(\n",
    "    n_tasks = len(tasks),\n",
    "    n_features = len(valid_data.X[3]),\n",
    "    layer_sizes=[1000], # how many layers and how many units in each layer to have.\n",
    "    weight_init_stddevs=0.02, \n",
    "    bias_init_consts=1.0,\n",
    "    dropouts=[0.5, 0.0],\n",
    "    activation_fns=['relu', 'relu'],\n",
    "    n_classes=12,\n",
    "    learning_rate=0.01,\n",
    "    batch_size=100)"
   ]
  },
  {
   "cell_type": "code",
   "execution_count": 53,
   "id": "c741b14f",
   "metadata": {},
   "outputs": [
    {
     "data": {
      "text/plain": [
       "<DiskDataset X.shape: (783, 2048), y.shape: (783, 12), w.shape: (783, 12), ids: ['N#C[C@@H]1CC(F)(F)CN1C(=O)CNC1CC2CCC(C1)N2c1ncccn1'\n",
       " 'CN(C)C(=O)NC1(c2ccccc2)CCN(CCC[C@@]2(c3ccc(Cl)c(Cl)c3)CCCN(C(=O)c3ccccc3)C2)CC1'\n",
       " 'CSc1nnc(C(C)(C)C)c(=O)n1N' ...\n",
       " 'O=C(O[C@H]1CN2CCC1CC2)N1CCc2ccccc2[C@@H]1c1ccccc1'\n",
       " 'C#C[C@]1(O)CC[C@H]2[C@@H]3CCC4=CC(=O)CC[C@@H]4[C@H]3C(=C)C[C@@]21CC'\n",
       " 'NC(=O)C(c1ccccc1)(c1ccccc1)[C@@H]1CCN(CCc2ccc3c(c2)CCO3)C1'], task_names: ['NR-AR' 'NR-AR-LBD' 'NR-AhR' ... 'SR-HSE' 'SR-MMP' 'SR-p53']>"
      ]
     },
     "execution_count": 53,
     "metadata": {},
     "output_type": "execute_result"
    }
   ],
   "source": [
    "valid_data"
   ]
  },
  {
   "cell_type": "code",
   "execution_count": 71,
   "id": "57949926",
   "metadata": {},
   "outputs": [
    {
     "ename": "AttributeError",
     "evalue": "module 'deepchem.metrics' has no attribute 'top_k_accuracy_score'",
     "output_type": "error",
     "traceback": [
      "\u001b[1;31m---------------------------------------------------------------------------\u001b[0m",
      "\u001b[1;31mAttributeError\u001b[0m                            Traceback (most recent call last)",
      "\u001b[1;32m~\\AppData\\Local\\Temp\\ipykernel_7044\\2308538794.py\u001b[0m in \u001b[0;36m<module>\u001b[1;34m\u001b[0m\n\u001b[0;32m      7\u001b[0m \u001b[0mroc_metric\u001b[0m \u001b[1;33m=\u001b[0m \u001b[0mdc\u001b[0m\u001b[1;33m.\u001b[0m\u001b[0mmetrics\u001b[0m\u001b[1;33m.\u001b[0m\u001b[0mMetric\u001b[0m\u001b[1;33m(\u001b[0m\u001b[0mdc\u001b[0m\u001b[1;33m.\u001b[0m\u001b[0mmetrics\u001b[0m\u001b[1;33m.\u001b[0m\u001b[0mroc_auc_score\u001b[0m\u001b[1;33m)\u001b[0m \u001b[1;31m#doesnt work\u001b[0m\u001b[1;33m\u001b[0m\u001b[1;33m\u001b[0m\u001b[0m\n\u001b[0;32m      8\u001b[0m \u001b[0macc_metric\u001b[0m \u001b[1;33m=\u001b[0m \u001b[0mdc\u001b[0m\u001b[1;33m.\u001b[0m\u001b[0mmetrics\u001b[0m\u001b[1;33m.\u001b[0m\u001b[0mMetric\u001b[0m\u001b[1;33m(\u001b[0m\u001b[0mdc\u001b[0m\u001b[1;33m.\u001b[0m\u001b[0mmetrics\u001b[0m\u001b[1;33m.\u001b[0m\u001b[0mbalanced_accuracy_score\u001b[0m\u001b[1;33m)\u001b[0m\u001b[1;33m\u001b[0m\u001b[1;33m\u001b[0m\u001b[0m\n\u001b[1;32m----> 9\u001b[1;33m \u001b[0mtopk_acc_metric\u001b[0m \u001b[1;33m=\u001b[0m \u001b[0mdc\u001b[0m\u001b[1;33m.\u001b[0m\u001b[0mmetrics\u001b[0m\u001b[1;33m.\u001b[0m\u001b[0mMetric\u001b[0m\u001b[1;33m(\u001b[0m\u001b[0mdc\u001b[0m\u001b[1;33m.\u001b[0m\u001b[0mmetrics\u001b[0m\u001b[1;33m.\u001b[0m\u001b[0mtop_k_accuracy_score\u001b[0m\u001b[1;33m)\u001b[0m\u001b[1;33m\u001b[0m\u001b[1;33m\u001b[0m\u001b[0m\n\u001b[0m\u001b[0;32m     10\u001b[0m \u001b[1;33m\u001b[0m\u001b[0m\n\u001b[0;32m     11\u001b[0m callback = dc.models.ValidationCallback(\n",
      "\u001b[1;31mAttributeError\u001b[0m: module 'deepchem.metrics' has no attribute 'top_k_accuracy_score'"
     ]
    }
   ],
   "source": [
    "patience =1\n",
    "nb_epochs = 10\n",
    "# metric1 = dc.metrics.Metric(dc.metrics.pearson_r2_score)\n",
    "# metric2 = dc.metrics.Metric(dc.metrics.mae_score)\n",
    "# metrics = [metric1, metric2]\n",
    "\n",
    "roc_metric = dc.metrics.Metric(dc.metrics.roc_auc_score) #doesnt work\n",
    "acc_metric = dc.metrics.Metric(dc.metrics.balanced_accuracy_score)\n",
    "topk_acc_metric = dc.metrics.Metric(dc.metrics.top_k_accuracy_score)\n",
    "\n",
    "callback = dc.models.ValidationCallback(\n",
    "            valid_data,\n",
    "            patience,\n",
    "            metrics=metric)"
   ]
  },
  {
   "cell_type": "code",
   "execution_count": 59,
   "id": "242ba822",
   "metadata": {
    "scrolled": true
   },
   "outputs": [
    {
     "data": {
      "text/plain": [
       "0.38288240432739257"
      ]
     },
     "execution_count": 59,
     "metadata": {},
     "output_type": "execute_result"
    }
   ],
   "source": [
    "ECFP_model.fit(train_data,\n",
    "              nb_epoch=10)"
   ]
  },
  {
   "cell_type": "code",
   "execution_count": 51,
   "id": "e5cb5e47",
   "metadata": {},
   "outputs": [
    {
     "data": {
      "text/plain": [
       "array([[0., 0., 0., ..., 0., 0., 0.],\n",
       "       [0., 0., 0., ..., 0., 0., 0.],\n",
       "       [0., 0., 0., ..., 0., 0., 0.],\n",
       "       ...,\n",
       "       [0., 0., 0., ..., 0., 1., 0.],\n",
       "       [0., 0., 0., ..., 0., 1., 0.],\n",
       "       [0., 0., 0., ..., 0., 0., 0.]])"
      ]
     },
     "execution_count": 51,
     "metadata": {},
     "output_type": "execute_result"
    }
   ],
   "source": [
    "train_data.y"
   ]
  },
  {
   "cell_type": "code",
   "execution_count": 69,
   "id": "c738438d",
   "metadata": {},
   "outputs": [
    {
     "data": {
      "text/plain": [
       "{'balanced_accuracy_score': 0.9708232989079111}"
      ]
     },
     "execution_count": 69,
     "metadata": {},
     "output_type": "execute_result"
    }
   ],
   "source": [
    "ECFP_model.evaluate(train_data, [acc_metric], transformers)"
   ]
  },
  {
   "cell_type": "code",
   "execution_count": null,
   "id": "ec5782ac",
   "metadata": {},
   "outputs": [],
   "source": [
    "# model = dc.models.GraphConvModel(len(tasks),\n",
    "#                                 batch_size=32,\n",
    "#                                  mode='classification')\n",
    "\n",
    "# # fits the model\n",
    "# model.fit(train_data, nb_epoch=10)\n",
    "# # sets R2 as the metric\n",
    "# metric = dc.metrics.Metric(dc.metrics.roc_auc_score)\n",
    "# #tests and prints out the model\n",
    "# print('training set score:', model.evaluate(train_data, [metric], transformers))\n",
    "# # print('test set score:', model.evaluate(test_data, [metric], transformers))"
   ]
  },
  {
   "cell_type": "code",
   "execution_count": null,
   "id": "64aecc99",
   "metadata": {},
   "outputs": [],
   "source": []
  },
  {
   "cell_type": "code",
   "execution_count": null,
   "id": "2bbe04d0",
   "metadata": {},
   "outputs": [],
   "source": [
    "\n"
   ]
  },
  {
   "cell_type": "code",
   "execution_count": null,
   "id": "888bc993",
   "metadata": {},
   "outputs": [],
   "source": [
    "# model = Sequential()\n",
    "# model.add(layers.Conv2D(filters=32,\n",
    "#                           kernel_size=3,\n",
    "#                           activation='relu',\n",
    "#                           dilation_rate=2,\n",
    "#                              input_shape=(80, 80, 1)))\n",
    "# model.add(layers.MaxPooling2D(pool_size=(2,2)))\n",
    "# #dropout to avoid overfitting\n",
    "# model.add(layers.Dense(50, activation='relu'))\n",
    "# model.add(layers.Dense(1))\n",
    "\n",
    "# model.build()"
   ]
  },
  {
   "cell_type": "code",
   "execution_count": null,
   "id": "b78f705d",
   "metadata": {},
   "outputs": [],
   "source": [
    "# model.compile(optimizer='adam', loss='mean_squared_error')\n",
    "# model.summary()"
   ]
  },
  {
   "cell_type": "code",
   "execution_count": null,
   "id": "671c4fca",
   "metadata": {},
   "outputs": [],
   "source": [
    "# model.fit(x=train_feat, y=train_feat,\n",
    "#                 epochs=10,\n",
    "#                 batch_size=512,\n",
    "#                 shuffle=True,\n",
    "#                validation_data=(valid_feat,valid_feat))"
   ]
  },
  {
   "cell_type": "code",
   "execution_count": null,
   "id": "41fffaf7",
   "metadata": {},
   "outputs": [],
   "source": []
  }
 ],
 "metadata": {
  "kernelspec": {
   "display_name": "Python 3 (ipykernel)",
   "language": "python",
   "name": "python3"
  },
  "language_info": {
   "codemirror_mode": {
    "name": "ipython",
    "version": 3
   },
   "file_extension": ".py",
   "mimetype": "text/x-python",
   "name": "python",
   "nbconvert_exporter": "python",
   "pygments_lexer": "ipython3",
   "version": "3.7.12"
  }
 },
 "nbformat": 4,
 "nbformat_minor": 5
}
