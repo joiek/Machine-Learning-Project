{
 "cells": [
  {
   "cell_type": "markdown",
   "id": "624dde67",
   "metadata": {},
   "source": [
    "### Autoencoder (as a class)"
   ]
  },
  {
   "cell_type": "code",
   "execution_count": null,
   "id": "325e49bb",
   "metadata": {},
   "outputs": [],
   "source": [
    "### Autoencoder (as a class)\n",
    "\n",
    "# latent_dim = 64 #find out what latent space dimensions to use\n",
    "# class Autoencoder(Model):\n",
    "#   def __init__(self, latent_dim):\n",
    "#     super(Autoencoder, self).__init__()\n",
    "#     self.latent_dim = latent_dim   \n",
    "#     self.encoder = tf.keras.Sequential([\n",
    "#       layers.Flatten(), #removes all dimensions except one\n",
    "#       layers.Dense(latent_dim, activation='relu'),\n",
    "#     ])\n",
    "#     self.decoder = tf.keras.Sequential([\n",
    "#       layers.Dense(784, activation='sigmoid'),\n",
    "#       layers.Reshape((28, 28)) #reshapes input into given shape\n",
    "#     ])\n",
    "\n",
    "#   def call(self, x):\n",
    "#     encoded = self.encoder(x)\n",
    "#     decoded = self.decoder(encoded)\n",
    "#     return decoded\n",
    "\n",
    "# autoencoder = Autoencoder(latent_dim)"
   ]
  },
  {
   "cell_type": "code",
   "execution_count": null,
   "id": "05364e2b",
   "metadata": {},
   "outputs": [],
   "source": []
  },
  {
   "cell_type": "code",
   "execution_count": null,
   "id": "d0773d93",
   "metadata": {},
   "outputs": [],
   "source": [
    "# #Shallow neural network - doesn't work since it's for ECFP not SMILES strings (GCNN)\n",
    "# keras_model = tf.keras.Sequential([\n",
    "#     tf.keras.layers.Dense(50, activation='sigmoid'), # hidden layer - 50 units\n",
    "#     tf.keras.layers.Dense(1) # output layer\n",
    "# ])\n",
    "\n",
    "# #Adding loss function to account for errors\n",
    "# model = dc.models.KerasModel(keras_model, dc.models.losses.L1Loss())\n",
    "\n",
    "# #epoch - number of times data is shown to NN\n",
    "# model.fit(train_dataset, nb_epoch=10) #training model\n",
    "\n",
    "# metric = dc.metrics.Metric(dc.metrics.roc_auc_score)\n",
    "# print('training set score:', model.evaluate(train_dataset, [metric]))\n",
    "# print('test set score:', model.evaluate(test_dataset, [metric]))"
   ]
  },
  {
   "cell_type": "code",
   "execution_count": null,
   "id": "ea8122fc",
   "metadata": {},
   "outputs": [],
   "source": []
  },
  {
   "cell_type": "markdown",
   "id": "2a9dfb30",
   "metadata": {},
   "source": [
    "### Graph Convolutional Featuriser"
   ]
  },
  {
   "cell_type": "code",
   "execution_count": null,
   "id": "31054f07",
   "metadata": {},
   "outputs": [],
   "source": [
    "#Loading Tox21 dataset with Graph Convolutional\n",
    "tasks, datasets, transformers = dc.molnet.load_tox21(featurizer='GraphConv', splitter='random')\n",
    "\n",
    "#the datasets object is already split into the train, validation and test dataset \n",
    "train_dataset, valid_dataset, test_dataset = datasets\n",
    "\n",
    "tasks, datasets, transformers = dc.molnet.load_tox21(\n",
    "    featurizer='GraphConv', \n",
    "    save_dir=r'C:\\Users\\ym20201\\Documents\\Datasets',\n",
    "    data_dir=r'C:\\Users\\ym20201\\Documents\\Datasets')\n",
    "splitter = dc.splits.RandomSplitter()\n",
    "\n",
    "train_data, _, _ = splitter.train_valid_test_split(\n",
    "    datasets[0], \n",
    "    frac_train = 0.8, frac_valid = 0.08, frac_test = 0.12)\n",
    "\n",
    "_, valid_data, _ = splitter.train_valid_test_split(\n",
    "    datasets[1], \n",
    "    frac_train = 0.8, frac_valid = 0.08, frac_test = 0.12)\n",
    "\n",
    "_, _, test_data = splitter.train_valid_test_split(\n",
    "    datasets[2], \n",
    "    frac_train = 0.8, frac_valid = 0.08, frac_test = 0.12)"
   ]
  },
  {
   "cell_type": "code",
   "execution_count": null,
   "id": "d6e48160",
   "metadata": {},
   "outputs": [],
   "source": [
    "#GraphConv featuriser - splitting the training dataset into smaller datasets\n",
    "tasks, datasets, transformers = dc.molnet.load_tox21(\n",
    "    featurizer='GraphConv', \n",
    "    save_dir=r'C:\\Users\\ym20201\\Documents\\Datasets',\n",
    "    data_dir=r'C:\\Users\\ym20201\\Documents\\Datasets')\n",
    "splitter = dc.splits.RandomSplitter()\n",
    "\n",
    "train_data, valid_data,test_data = splitter.train_valid_test_split(\n",
    "    datasets[0], \n",
    "    frac_train = 0.8, frac_valid = 0.08, frac_test = 0.12)\n",
    "\n",
    "\n",
    "model = dc.models.GraphConvModel(n_tasks=12, mode='regression', dropout=0.2)\n",
    "\n",
    "#epoch - number of times data is shown to NN\n",
    "model.fit(train_data, nb_epoch=10) #training model\n",
    "\n",
    "metric = dc.metrics.Metric(dc.metrics.pearson_r2_score)\n",
    "print(\"Training set score:\", model.evaluate(train_data, [metric], transformers))\n",
    "print(\"Test set score:\", model.evaluate(test_data, [metric], transformers))\n"
   ]
  }
 ],
 "metadata": {
  "kernelspec": {
   "display_name": "Python 3 (ipykernel)",
   "language": "python",
   "name": "python3"
  },
  "language_info": {
   "codemirror_mode": {
    "name": "ipython",
    "version": 3
   },
   "file_extension": ".py",
   "mimetype": "text/x-python",
   "name": "python",
   "nbconvert_exporter": "python",
   "pygments_lexer": "ipython3",
   "version": "3.7.12"
  }
 },
 "nbformat": 4,
 "nbformat_minor": 5
}
