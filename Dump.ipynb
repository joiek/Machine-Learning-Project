{
 "cells": [
  {
   "cell_type": "code",
   "execution_count": null,
   "id": "6c249cf8",
   "metadata": {},
   "outputs": [],
   "source": [
    "# #Model 2 - Calculating precision and recall score\n",
    "# m2_precision_score_1, m2_recall_score_1, _ = precision_recall_curve(y_true_1,m2_y_pred_1)\n",
    "\n",
    "# m2_average_precision_1 = average_precision_score(y_true_1, m2_y_pred_1)          \n",
    "\n",
    "# #Plotting precision-recall curve\n",
    "# fig, ax = plt.subplots(figsize=(10,8))\n",
    "\n",
    "# m2_precision_recall1 = PrecisionRecallDisplay(recall = m2_recall_score[0], precision = m2_precision_score[0], \n",
    "#                                           average_precision = m2_avg_precision_score[0])\n",
    "##repeat\n",
    "\n",
    "# m2_precision_recall1.plot(ax=ax, label='NR-AR')\n",
    "# m2_precision_recall2.plot(ax=ax, label='NR-AR-LBD')\n",
    "# m2_precision_recall3.plot(ax=ax, label='NR-AhR')\n",
    "# m2_precision_recall4.plot(ax=ax, label='NR-Aromatase')\n",
    "# m2_precision_recall5.plot(ax=ax, label='NR-ER')\n",
    "# m2_precision_recall6.plot(ax=ax, label='NR-ER-LBD')\n",
    "# m2_precision_recall7.plot(ax=ax, label='NR-PPAR-gamma')\n",
    "# m2_precision_recall8.plot(ax=ax, label='SR-ARE')\n",
    "# m2_precision_recall9.plot(ax=ax, label='SR-ATAD5')\n",
    "# m2_precision_recall10.plot(ax=ax, label='SR-HSE')\n",
    "# m2_precision_recall11.plot(ax=ax, label='SR-MMP')\n",
    "# m2_precision_recall12.plot(ax=ax, label='SR-p53')\n",
    "\n",
    "# plt.title('Model 2 - Precision-Recall Curve for 12 assays')\n",
    "# plt.legend(loc='upper right')\n",
    "# #4x3 plot of all 12 assays\n",
    "# #modify axis?\n",
    "# #add average precision?"
   ]
  },
  {
   "cell_type": "code",
   "execution_count": null,
   "id": "c115205b",
   "metadata": {},
   "outputs": [],
   "source": [
    "# print(f\"Model evaluation on train dataset: {smiles2img_model.evaluate(train_data, [metric], transformers)}\")\n",
    "# print(f\"Model evaluation on validation dataset: {smiles2img_model.evaluate(valid_data, [metric], transformers)}\")\n",
    "# print(f\"Model evaluation on test dataset: {smiles2img_model.evaluate(test_data, [metric], transformers)}\")"
   ]
  },
  {
   "cell_type": "code",
   "execution_count": null,
   "id": "fa646c90",
   "metadata": {},
   "outputs": [],
   "source": [
    "# b_acc_1 = balanced_accuracy_score(y_true_1, y_pred_new_1)\n",
    "# b_acc_2 = balanced_accuracy_score(y_true_2, y_pred_new_2)\n",
    "# b_acc_3 = balanced_accuracy_score(y_true_3, y_pred_new_3)\n",
    "# b_acc_4 = balanced_accuracy_score(y_true_4, y_pred_new_4)\n",
    "# b_acc_5 = balanced_accuracy_score(y_true_5, y_pred_new_5)\n",
    "# b_acc_6 = balanced_accuracy_score(y_true_6, y_pred_new_6)\n",
    "# b_acc_7 = balanced_accuracy_score(y_true_7, y_pred_new_7)\n",
    "# b_acc_8 = balanced_accuracy_score(y_true_8, y_pred_new_8)\n",
    "# b_acc_9 = balanced_accuracy_score(y_true_9, y_pred_new_9)\n",
    "# b_acc_10 = balanced_accuracy_score(y_true_10, y_pred_new_10)\n",
    "# b_acc_11 = balanced_accuracy_score(y_true_11, y_pred_new_11)\n",
    "# b_acc_12 = balanced_accuracy_score(y_true_12, y_pred_new_12)\n",
    "\n",
    "# b_acc_all = [b_acc_1, b_acc_2, b_acc_3, b_acc_4, b_acc_5, b_acc_6,\n",
    "#             b_acc_7, b_acc_8, b_acc_9, b_acc_10, b_acc_11, b_acc_12]"
   ]
  },
  {
   "cell_type": "code",
   "execution_count": null,
   "id": "725c527d",
   "metadata": {},
   "outputs": [],
   "source": []
  },
  {
   "cell_type": "markdown",
   "id": "624dde67",
   "metadata": {},
   "source": [
    "### Autoencoder (as a class)"
   ]
  },
  {
   "cell_type": "code",
   "execution_count": null,
   "id": "325e49bb",
   "metadata": {},
   "outputs": [],
   "source": [
    "### Autoencoder (as a class)\n",
    "\n",
    "# latent_dim = 64 #find out what latent space dimensions to use\n",
    "# class Autoencoder(Model):\n",
    "#   def __init__(self, latent_dim):\n",
    "#     super(Autoencoder, self).__init__()\n",
    "#     self.latent_dim = latent_dim   \n",
    "#     self.encoder = tf.keras.Sequential([\n",
    "#       layers.Flatten(), #removes all dimensions except one\n",
    "#       layers.Dense(latent_dim, activation='relu'),\n",
    "#     ])\n",
    "#     self.decoder = tf.keras.Sequential([\n",
    "#       layers.Dense(784, activation='sigmoid'),\n",
    "#       layers.Reshape((28, 28)) #reshapes input into given shape\n",
    "#     ])\n",
    "\n",
    "#   def call(self, x):\n",
    "#     encoded = self.encoder(x)\n",
    "#     decoded = self.decoder(encoded)\n",
    "#     return decoded\n",
    "\n",
    "# autoencoder = Autoencoder(latent_dim)"
   ]
  },
  {
   "cell_type": "code",
   "execution_count": null,
   "id": "05364e2b",
   "metadata": {},
   "outputs": [],
   "source": []
  },
  {
   "cell_type": "code",
   "execution_count": null,
   "id": "d0773d93",
   "metadata": {},
   "outputs": [],
   "source": [
    "# #Shallow neural network - doesn't work since it's for ECFP not SMILES strings (GCNN)\n",
    "# keras_model = tf.keras.Sequential([\n",
    "#     tf.keras.layers.Dense(50, activation='sigmoid'), # hidden layer - 50 units\n",
    "#     tf.keras.layers.Dense(1) # output layer\n",
    "# ])\n",
    "\n",
    "# #Adding loss function to account for errors\n",
    "# model = dc.models.KerasModel(keras_model, dc.models.losses.L1Loss())\n",
    "\n",
    "# #epoch - number of times data is shown to NN\n",
    "# model.fit(train_dataset, nb_epoch=10) #training model\n",
    "\n",
    "# metric = dc.metrics.Metric(dc.metrics.roc_auc_score)\n",
    "# print('training set score:', model.evaluate(train_dataset, [metric]))\n",
    "# print('test set score:', model.evaluate(test_dataset, [metric]))"
   ]
  },
  {
   "cell_type": "code",
   "execution_count": null,
   "id": "ea8122fc",
   "metadata": {},
   "outputs": [],
   "source": []
  },
  {
   "cell_type": "markdown",
   "id": "2a9dfb30",
   "metadata": {},
   "source": [
    "### Graph Convolutional Featuriser"
   ]
  },
  {
   "cell_type": "code",
   "execution_count": null,
   "id": "31054f07",
   "metadata": {},
   "outputs": [],
   "source": [
    "#Loading Tox21 dataset with Graph Convolutional\n",
    "tasks, datasets, transformers = dc.molnet.load_tox21(featurizer='GraphConv', splitter='random')\n",
    "\n",
    "#the datasets object is already split into the train, validation and test dataset \n",
    "train_dataset, valid_dataset, test_dataset = datasets\n",
    "\n",
    "tasks, datasets, transformers = dc.molnet.load_tox21(\n",
    "    featurizer='GraphConv', \n",
    "    save_dir=r'C:\\Users\\ym20201\\Documents\\Datasets',\n",
    "    data_dir=r'C:\\Users\\ym20201\\Documents\\Datasets')\n",
    "splitter = dc.splits.RandomSplitter()\n",
    "\n",
    "train_data, _, _ = splitter.train_valid_test_split(\n",
    "    datasets[0], \n",
    "    frac_train = 0.8, frac_valid = 0.08, frac_test = 0.12)\n",
    "\n",
    "_, valid_data, _ = splitter.train_valid_test_split(\n",
    "    datasets[1], \n",
    "    frac_train = 0.8, frac_valid = 0.08, frac_test = 0.12)\n",
    "\n",
    "_, _, test_data = splitter.train_valid_test_split(\n",
    "    datasets[2], \n",
    "    frac_train = 0.8, frac_valid = 0.08, frac_test = 0.12)"
   ]
  },
  {
   "cell_type": "code",
   "execution_count": null,
   "id": "d6e48160",
   "metadata": {},
   "outputs": [],
   "source": [
    "#GraphConv featuriser - splitting the training dataset into smaller datasets\n",
    "tasks, datasets, transformers = dc.molnet.load_tox21(\n",
    "    featurizer='GraphConv', \n",
    "    save_dir=r'C:\\Users\\ym20201\\Documents\\Datasets',\n",
    "    data_dir=r'C:\\Users\\ym20201\\Documents\\Datasets')\n",
    "splitter = dc.splits.RandomSplitter()\n",
    "\n",
    "train_data, valid_data,test_data = splitter.train_valid_test_split(\n",
    "    datasets[0], \n",
    "    frac_train = 0.8, frac_valid = 0.08, frac_test = 0.12)\n",
    "\n",
    "\n",
    "model = dc.models.GraphConvModel(n_tasks=12, mode='regression', dropout=0.2)\n",
    "\n",
    "#epoch - number of times data is shown to NN\n",
    "model.fit(train_data, nb_epoch=10) #training model\n",
    "\n",
    "metric = dc.metrics.Metric(dc.metrics.pearson_r2_score)\n",
    "print(\"Training set score:\", model.evaluate(train_data, [metric], transformers))\n",
    "print(\"Test set score:\", model.evaluate(test_data, [metric], transformers))\n"
   ]
  }
 ],
 "metadata": {
  "kernelspec": {
   "display_name": "Python 3 (ipykernel)",
   "language": "python",
   "name": "python3"
  },
  "language_info": {
   "codemirror_mode": {
    "name": "ipython",
    "version": 3
   },
   "file_extension": ".py",
   "mimetype": "text/x-python",
   "name": "python",
   "nbconvert_exporter": "python",
   "pygments_lexer": "ipython3",
   "version": "3.7.12"
  }
 },
 "nbformat": 4,
 "nbformat_minor": 5
}
